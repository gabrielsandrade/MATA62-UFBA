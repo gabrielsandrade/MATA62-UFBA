{
 "cells": [
  {
   "cell_type": "code",
   "execution_count": 1,
   "metadata": {},
   "outputs": [],
   "source": [
    "import pandas as pd\n",
    "from settings import *\n",
    "from scrape import *\n",
    "import matplotlib.pyplot as plt\n",
    "%matplotlib inline"
   ]
  },
  {
   "cell_type": "code",
   "execution_count": 2,
   "metadata": {},
   "outputs": [],
   "source": [
    "#scrapePage(anacUrl)"
   ]
  },
  {
   "cell_type": "code",
   "execution_count": 10,
   "metadata": {
    "scrolled": true
   },
   "outputs": [
    {
     "name": "stdout",
     "output_type": "stream",
     "text": [
      "Lendo os arquivos do ano 2015\n",
      "114636\n",
      "216629\n",
      "327636\n",
      "434556\n",
      "542910\n",
      "648608\n",
      "760762\n",
      "868806\n",
      "976224\n",
      "1085370\n",
      "1189754\n",
      "1301570\n",
      "Lendo os arquivos do ano 2016\n",
      "1415829\n",
      "1517497\n",
      "1619362\n",
      "1718322\n",
      "1810178\n",
      "1898218\n",
      "1990804\n",
      "2082306\n",
      "2168746\n",
      "2258370\n",
      "2345436\n",
      "2440576\n",
      "Lendo os arquivos do ano 2017\n",
      "2539374\n",
      "2624374\n",
      "2716233\n",
      "2802437\n",
      "2893114\n",
      "2980986\n",
      "3077896\n",
      "3172081\n",
      "3261534\n",
      "3355080\n",
      "3446623\n",
      "3546060\n",
      "Lendo os arquivos do ano 2018\n",
      "3649557\n",
      "3739167\n",
      "3829956\n",
      "3909737\n",
      "3993491\n",
      "4073793\n",
      "4164009\n",
      "4248397\n",
      "4329316\n",
      "4412963\n",
      "4492988\n",
      "4580616\n",
      "Lendo os arquivos do ano 2019\n",
      "4672433\n",
      "4751959\n",
      "4835021\n",
      "4912465\n",
      "4989166\n",
      "5063355\n",
      "5149027\n",
      "5229616\n",
      "5310153\n",
      "5394392\n",
      "5475390\n",
      "5563607\n"
     ]
    }
   ],
   "source": [
    "situacaoVoos = []\n",
    "fileCsvFinal = pd.DataFrame()\n",
    "for z in range(2015, 2020):\n",
    "    ano = z - 2015\n",
    "    print(f\"Lendo os arquivos do ano {z}\")\n",
    "    for i in range(1, 13):\n",
    "            sep = [';', ',','\\t']\n",
    "            sepIndex = 0\n",
    "            while True:\n",
    "                try:\n",
    "                    fileCsv = pd.read_csv(\n",
    "                        f'data/{z}-{i:02}.csv', encoding='ISO-8859-1', sep=sep[sepIndex], low_memory=False)\n",
    "                    if ('internet' in fileCsv.columns[0]):\n",
    "                        fileCsv.columns = fileCsv.iloc[0]\n",
    "                        fileCsv = fileCsv[1:]\n",
    "                    if len(fileCsv.columns) <= 1:\n",
    "                        raise ValueError('sepIndex')\n",
    "                    else:\n",
    "                        try:\n",
    "                            fileCsv = fileCsv.drop(columns='Data Prevista')\n",
    "                        except:\n",
    "                            pass\n",
    "                        fileCsv.columns = ['ICAO Empresa Aérea', 'Número Voo', 'Código DI', 'Código Tipo Linha',\n",
    "                                        'ICAO Aeródromo Origem', 'ICAO Aeródromo Destino', 'Partida Prevista',\n",
    "                                        'Partida Real', 'Chegada Prevista', 'Chegada Real', 'Situação Voo',\n",
    "                                        'Código Justificativa']\n",
    "                    fileCsvFinal = pd.concat([fileCsvFinal, fileCsv])\n",
    "                    print(len(fileCsvFinal))\n",
    "                    break\n",
    "                except Exception as e:\n",
    "                    if e.args[0] == 'sepIndex':\n",
    "                        if (sepIndex < 3):\n",
    "                            sepIndex += 1\n",
    "                    else:\n",
    "                        print(e)"
   ]
  },
  {
   "cell_type": "code",
   "execution_count": 49,
   "metadata": {
    "scrolled": true
   },
   "outputs": [],
   "source": [
    "situacao = fileCsvFinal['Situação Voo'].str.upper()\n",
    "situacaoVoos = situacao.value_counts()"
   ]
  },
  {
   "cell_type": "code",
   "execution_count": 50,
   "metadata": {},
   "outputs": [
    {
     "data": {
      "text/plain": [
       "REALIZADO        5077785\n",
       "CANCELADO         484230\n",
       "NÃO REALIZADO       1592\n",
       "Name: Situação Voo, dtype: int64"
      ]
     },
     "execution_count": 50,
     "metadata": {},
     "output_type": "execute_result"
    }
   ],
   "source": [
    "situacaoVoos"
   ]
  },
  {
   "cell_type": "code",
   "execution_count": 52,
   "metadata": {
    "scrolled": true
   },
   "outputs": [
    {
     "data": {
      "image/png": "[encoded data removed]",
      "text/plain": [
       "<Figure size 1080x360 with 1 Axes>"
      ]
     },
     "metadata": {
      "needs_background": "light"
     },
     "output_type": "display_data"
    }
   ],
   "source": [
    "\n",
    "fig, axs = plt.subplots(figsize=(15, 5))\n",
    "situacaoVoos.plot(kind='bar')\n",
    "plt.xticks(rotation=50)\n",
    "labels = axs.get_xticklabels()\n",
    "for label in labels:\n",
    "    label.set_rotation(45)\n",
    "plt.setp(axs,\n",
    "yticks=[0, 100000, 1000000])\n",
    "plt.show()"
   ]
  },
  {
   "cell_type": "code",
   "execution_count": null,
   "metadata": {
    "scrolled": true
   },
   "outputs": [],
   "source": [
    "fig, axs = plt.subplots(figsize=(15, 5))\n",
    "plt.plot(voos)\n",
    "xticks = []\n",
    "ano = 2015\n",
    "for i in range(len(voos)):\n",
    "    label = f\"{ano}-{i%12 + 1}\"\n",
    "    if i%12 == 11: ano+=1\n",
    "    xticks.append(label)\n",
    "axs.set_xticks(range(0,len(voos),1))\n",
    "axs.set_xticklabels(xticks, rotation=45)\n",
    "plt.show()"
   ]
  },
  {
   "cell_type": "code",
   "execution_count": null,
   "metadata": {},
   "outputs": [],
   "source": [
    "\n",
    "df = pd.merge(situacaoVoos[0], situacaoVoos[1], right_index = True, left_index=True)\n",
    "for i in range(5):\n",
    "    df = pd.merge(df, situacaoVoos[i+2], right_index = True, left_index=True)\n",
    "situacaoVoos[8]"
   ]
  }
 ],
 "metadata": {
  "kernelspec": {
   "display_name": "Python 3",
   "language": "python",
   "name": "python3"
  },
  "language_info": {
   "codemirror_mode": {
    "name": "ipython",
    "version": 3
   },
   "file_extension": ".py",
   "mimetype": "text/x-python",
   "name": "python",
   "nbconvert_exporter": "python",
   "pygments_lexer": "ipython3",
   "version": "3.8.2"
  }
 },
 "nbformat": 4,
 "nbformat_minor": 4
}
