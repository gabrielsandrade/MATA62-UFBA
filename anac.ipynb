{
 "cells": [
  {
   "cell_type": "code",
   "execution_count": 2,
   "metadata": {
    "scrolled": true
   },
   "outputs": [],
   "source": [
    "import pandas as pd\n",
    "from settings import *\n",
    "from scrape import *\n",
    "import matplotlib.pyplot as plt\n",
    "import matplotlib\n",
    "import numpy as np\n",
    "from ipywidgets import interact\n",
    "import ipywidgets as widgets\n",
    "%matplotlib inline"
   ]
  },
  {
   "cell_type": "code",
   "execution_count": 2,
   "metadata": {},
   "outputs": [],
   "source": [
    "#scrapePage(anacUrl)"
   ]
  },
  {
   "cell_type": "code",
   "execution_count": 3,
   "metadata": {
    "jupyter": {
     "source_hidden": true
    },
    "scrolled": true
   },
   "outputs": [],
   "source": [
    "situacaoVoos = []\n",
    "fileCsvFinal = pd.DataFrame()\n",
    "for ano in range(2015, 2020):\n",
    "    print(f\"Lendo os arquivos do ano {ano}\")\n",
    "    for i in range(1, 13):\n",
    "            sep = [';', ',','\\t']\n",
    "            sepIndex = 0\n",
    "            while True:\n",
    "                try:\n",
    "                    fileCsv = pd.read_csv(\n",
    "                        f'data/{ano}-{i:02}.csv', encoding='ISO-8859-1', sep=sep[sepIndex], low_memory=False)\n",
    "                    if ('internet' in fileCsv.columns[0]):\n",
    "                        fileCsv.columns = fileCsv.iloc[0]\n",
    "                        fileCsv = fileCsv[1:]\n",
    "                    if len(fileCsv.columns) <= 1:\n",
    "                        raise ValueError('sepIndex')\n",
    "                    else:\n",
    "                        try:\n",
    "                            fileCsv = fileCsv.drop(columns='Data Prevista')\n",
    "                        except:\n",
    "                            pass\n",
    "                        fileCsv.columns = ['ICAO Empresa Aérea', 'Número Voo', 'Código DI', 'Código Tipo Linha',\n",
    "                                        'ICAO Aeródromo Origem', 'ICAO Aeródromo Destino', 'Partida Prevista',\n",
    "                                        'Partida Real', 'Chegada Prevista', 'Chegada Real', 'Situação Voo',\n",
    "                                        'Código Justificativa']\n",
    "                    \n",
    "                    fileCsv = fileCsv.assign(Ano = ano)\n",
    "                    fileCsv = fileCsv.assign(Mes = i)\n",
    "                    \n",
    "                    fileCsvFinal = pd.concat([fileCsvFinal, fileCsv])\n",
    "                    print(len(fileCsvFinal))\n",
    "                    break\n",
    "                except Exception as e:\n",
    "                    if e.args[0] == 'sepIndex':\n",
    "                        if (sepIndex < 3):\n",
    "                            sepIndex += 1\n",
    "                    else:\n",
    "                        print(e)\n",
    "fileCsvFinal['Situação Voo'] = fileCsvFinal['Situação Voo'].str.upper()\n",
    "fileCsvFinal['Situação Voo'] = fileCsvFinal['Situação Voo'].str.replace('NÃO REALIZADO', 'CANCELADO', regex=False)"
   ]
  },
  {
   "cell_type": "code",
   "execution_count": 3,
   "metadata": {},
   "outputs": [
    {
     "name": "stderr",
     "output_type": "stream",
     "text": [
      "/home/gabriel/.local/lib/python3.8/site-packages/IPython/core/interactiveshell.py:3145: DtypeWarning: Columns (3,4) have mixed types.Specify dtype option on import or set low_memory=False.\n",
      "  has_raised = await self.run_ast_nodes(code_ast.body, cell_name,\n"
     ]
    }
   ],
   "source": [
    "fileCsvFinal = pd.read_csv('csvFinal.csv')"
   ]
  },
  {
   "cell_type": "code",
   "execution_count": 5,
   "metadata": {},
   "outputs": [
    {
     "data": {
      "image/png": "[encoded data removed]",
      "text/plain": [
       "<Figure size 720x432 with 1 Axes>"
      ]
     },
     "metadata": {
      "needs_background": "light"
     },
     "output_type": "display_data"
    }
   ],
   "source": [
    "\n",
    "fig, ax = plt.subplots(figsize=(10,6))\n",
    "SituacaoPorAno = pd.DataFrame()\n",
    "for situacao in fileCsvFinal['Situação Voo'].unique():\n",
    "    df = fileCsvFinal.loc[fileCsvFinal['Situação Voo'] == situacao]\n",
    "    df = df['Ano'].value_counts()\n",
    "    SituacaoPorAno= pd.concat([SituacaoPorAno, df], axis=1)\n",
    "SituacaoPorAno.columns = ['Realizado', 'Cancelado']\n",
    "graphRealizados = plt.bar(SituacaoPorAno['Realizado'].index, SituacaoPorAno['Realizado'].values)\n",
    "graphCancelados = plt.bar(SituacaoPorAno['Cancelado'].index, SituacaoPorAno['Cancelado'].values)\n",
    "\n",
    "def autolabel(graph):\n",
    "  \n",
    "    for rect in graph:\n",
    "        valor = rect.get_height()\n",
    "        ax.annotate(f'{valor}',\n",
    "                    xy=(rect.get_x() + rect.get_width() / 2, valor),\n",
    "                    xytext=(0, 3),\n",
    "                    textcoords=\"offset points\",\n",
    "                    ha='center', va='bottom')\n",
    "\n",
    "autolabel(graphRealizados)\n",
    "autolabel(graphCancelados)"
   ]
  },
  {
   "cell_type": "code",
   "execution_count": 78,
   "metadata": {
    "scrolled": false
   },
   "outputs": [
    {
     "name": "stdout",
     "output_type": "stream",
     "text": [
      "Realizados : 5077785\n",
      "Cancelados : 485822\n"
     ]
    },
    {
     "data": {
      "image/png": "[encoded data removed]",
      "text/plain": [
       "<Figure size 720x360 with 1 Axes>"
      ]
     },
     "metadata": {
      "needs_background": "light"
     },
     "output_type": "display_data"
    }
   ],
   "source": [
    "fig, axs = plt.subplots(figsize=(10, 5))\n",
    "SituacaoPorMes = pd.DataFrame()\n",
    "colors = ['#ff0000','#ffda00','#e76ec6','#03da00','#000','#e7bec6','#004000','#9abec6','#5b196e','#03da00','#03da00','#03da00']\n",
    "color=plt.cm.Paired(np.arange(12))\n",
    "# print(color)\n",
    "for mes in range(1, 13):\n",
    "    df = fileCsvFinal.loc[fileCsvFinal['Mes'] == mes]\n",
    "    df = df['Situação Voo'].value_counts()\n",
    "    SituacaoPorMes= pd.concat([SituacaoPorMes, df], axis=1)\n",
    "SituacaoPorMes.columns = ['Janeiro','Fevereiro','Março','Abril','Maio', 'Junho','Julho', 'Agosto','Setembro','Outubro', 'Novembro', 'Dezembro']\n",
    "SituacaoPorMes.iloc[0].plot(kind='bar', ax=axs, width=0.8, title=\"Voos Realizados\", color=color)\n",
    "SituacaoPorMes.iloc[1].plot(kind='bar', ax=axs, width=0.8, title=\"Voos Cancelados\", color=\"#000\")\n",
    "    \n",
    "labels = axs.get_xticklabels()\n",
    "for label in labels:\n",
    "    label.set_rotation(45)\n",
    "print(f\"Realizados : {int(SituacaoPorMes.iloc[0].sum())}\")\n",
    "print(f\"Cancelados : {int(SituacaoPorMes.iloc[1].sum())}\")"
   ]
  },
  {
   "cell_type": "code",
   "execution_count": 68,
   "metadata": {
    "scrolled": false
   },
   "outputs": [
    {
     "data": {
      "application/vnd.jupyter.widget-view+json": {
       "model_id": "de2e9f0c0f974fafbc195bf94a0ad0ce",
       "version_major": 2,
       "version_minor": 0
      },
      "text/plain": [
       "interactive(children=(IntSlider(value=2015, description='ano', max=2019, min=2015), Output()), _dom_classes=('…"
      ]
     },
     "metadata": {},
     "output_type": "display_data"
    },
    {
     "data": {
      "text/plain": [
       "<function __main__.f(ano)>"
      ]
     },
     "execution_count": 68,
     "metadata": {},
     "output_type": "execute_result"
    }
   ],
   "source": [
    "colorPastel = plt.cm.Pastel1(np.arange(12))\n",
    "# colorBlack\n",
    "def f(ano):\n",
    "    fig, axs = plt.subplots(nrows=1, figsize=(10, 5))\n",
    "    df = fileCsvFinal.loc[fileCsvFinal['Ano'] == ano]\n",
    "    SituacaoPorMes = pd.DataFrame()\n",
    "    for mes in range(1, 13):\n",
    "        df2 = df.loc[df['Mes'] == mes]\n",
    "        df2 = df2['Situação Voo'].value_counts()\n",
    "        SituacaoPorMes= pd.concat([SituacaoPorMes, df2], axis=1)\n",
    "    SituacaoPorMes.columns = ['Janeiro','Fevereiro','Março','Abril','Maio', 'Junho','Julho', 'Agosto','Setembro','Outubro', 'Novembro', 'Dezembro']\n",
    "    SituacaoPorMes.iloc[0].plot(kind='bar', ax=axs, width=0.8, title=\"Voos Realizados/Cancelados\", color=color)\n",
    "    SituacaoPorMes.iloc[1].plot(kind='bar', ax=axs, width=0.8, color='#000')\n",
    "        \n",
    "    labels = axs.get_xticklabels()\n",
    "    for label in labels:\n",
    "        label.set_rotation(45)\n",
    "    print(f\"Média de voos realizados : {np.around(int(SituacaoPorMes.iloc[0].mean()))}\")\n",
    "    print(f\"Média de voos cancelados : {np.around(int(SituacaoPorMes.iloc[1].mean()))}\")\n",
    "#     plt.ylabel('Quantidade de voos por mês')\n",
    "\n",
    "interact(f, ano=widgets.IntSlider(min=2015,max=2019,step=1,value=2015))"
   ]
  },
  {
   "cell_type": "markdown",
   "metadata": {},
   "source": [
    "## Empresas com maior número de voos realizados e cancelados"
   ]
  },
  {
   "cell_type": "code",
   "execution_count": 72,
   "metadata": {},
   "outputs": [
    {
     "data": {
      "application/vnd.jupyter.widget-view+json": {
       "model_id": "6ee83904c8f64e17a2b232fd6e62391b",
       "version_major": 2,
       "version_minor": 0
      },
      "text/plain": [
       "interactive(children=(IntSlider(value=2015, description='ano', max=2019, min=2015), Output()), _dom_classes=('…"
      ]
     },
     "metadata": {},
     "output_type": "display_data"
    },
    {
     "data": {
      "text/plain": [
       "<function __main__.f(ano)>"
      ]
     },
     "execution_count": 72,
     "metadata": {},
     "output_type": "execute_result"
    }
   ],
   "source": [
    "explode = (0.05, 0, 0, 0, 0)\n",
    "def f(ano):\n",
    "    fig = plt.figure(figsize=(8,8))\n",
    "    voosRealizados = fileCsvFinal[fileCsvFinal['Situação Voo'] == 'REALIZADO']\n",
    "    voosRealizados = voosRealizados[voosRealizados['Ano'] == ano]['ICAO Empresa Aérea'].value_counts()\n",
    "    outrasEmpresas = voosRealizados[voosRealizados < voosRealizados[4]]\n",
    "    outrasEmpresasRealizadosDf = pd.Series({'Outros' : outrasEmpresas.sum()})\n",
    "    voosRealizadosDF = pd.concat([voosRealizados[:4], outrasEmpresasRealizadosDf])\n",
    "\n",
    "    voosCancelados = fileCsvFinal[fileCsvFinal['Situação Voo'] == 'CANCELADO']\n",
    "    voosCancelados = voosCancelados[voosCancelados['Ano'] == ano]['ICAO Empresa Aérea'].value_counts()\n",
    "    outrasEmpresasCancelados = voosCancelados[voosCancelados < voosCancelados[4]]\n",
    "    outrasEmpresasCanceladosDf = pd.Series({'Outros' : outrasEmpresasCancelados.sum()})\n",
    "    voosCanceladosDF = pd.concat([voosCancelados[:4], outrasEmpresasCanceladosDf])\n",
    "    \n",
    "    \n",
    "    ax1 = plt.subplot2grid((1,2),(0,0))\n",
    "    ax1.set_title(\"Realizados\")\n",
    "    plt.pie(voosRealizadosDF, autopct='%1.1f%%', explode=explode, shadow=True, labels=voosRealizadosDF.index)\n",
    "    \n",
    "    ax2 = plt.subplot2grid((1,2),(0,1))\n",
    "    ax2.set_title(\"Cancelados\")\n",
    "    plt.pie(voosCanceladosDF, autopct='%1.1f%%', explode=explode, shadow=True, labels=voosCanceladosDF.index)\n",
    "interact(f, ano=widgets.IntSlider(min=2015,max=2019,step=1,value=2015))"
   ]
  },
  {
   "cell_type": "code",
   "execution_count": 176,
   "metadata": {
    "scrolled": true
   },
   "outputs": [
    {
     "name": "stdout",
     "output_type": "stream",
     "text": [
      "9\n"
     ]
    },
    {
     "data": {
      "image/png": "[encoded data removed]",
      "text/plain": [
       "<Figure size 720x360 with 1 Axes>"
      ]
     },
     "metadata": {
      "needs_background": "light"
     },
     "output_type": "display_data"
    }
   ],
   "source": [
    "fig = plt.subplots(figsize=(10,5))\n",
    "linhas = fileCsvFinal['Código Tipo Linha'].value_counts()\n",
    "print(len(fileCsvFinal['Código Tipo Linha'].unique()))\n",
    "for i in range(len(fileCsvFinal['Código Tipo Linha'].unique())):\n",
    "    plt.bar(['a','b','c','d'],[linhas[i], 0, 0, 0], width=0.5)"
   ]
  },
  {
   "cell_type": "code",
   "execution_count": 181,
   "metadata": {},
   "outputs": [
    {
     "data": {
      "text/plain": [
       "array([3627689,  812329,  696879,  184604,  163808,   54659,   22131,\n",
       "           897,     611])"
      ]
     },
     "execution_count": 181,
     "metadata": {},
     "output_type": "execute_result"
    },
    {
     "data": {
      "image/png": "[encoded data removed]",
      "text/plain": [
       "<Figure size 432x288 with 1 Axes>"
      ]
     },
     "metadata": {
      "needs_background": "light"
     },
     "output_type": "display_data"
    }
   ],
   "source": [
    "plt.bar(linhas.index, linhas.values)\n",
    "linhas.values"
   ]
  },
  {
   "cell_type": "code",
   "execution_count": 185,
   "metadata": {},
   "outputs": [
    {
     "data": {
      "text/plain": [
       "<BarContainer object of 7 artists>"
      ]
     },
     "execution_count": 185,
     "metadata": {},
     "output_type": "execute_result"
    },
    {
     "data": {
      "image/png": "[encoded data removed]",
      "text/plain": [
       "<Figure size 432x288 with 1 Axes>"
      ]
     },
     "metadata": {
      "needs_background": "light"
     },
     "output_type": "display_data"
    }
   ],
   "source": [
    "teste = fileCsvFinal[fileCsvFinal['Situação Voo'] == 'REALIZADO']\n",
    "x = teste[teste['Partida Prevista'] < teste['Partida Real']]\n",
    "# x['ICAO Empresa Aérea'].value_counts()[:7].plot(kind='bar')\n",
    "plt.bar(x['ICAO Empresa Aérea'].value_counts()[:7].index, x['ICAO Empresa Aérea'].value_counts()[:7].values)"
   ]
  }
 ],
 "metadata": {
  "kernelspec": {
   "display_name": "Python 3",
   "language": "python",
   "name": "python3"
  },
  "language_info": {
   "codemirror_mode": {
    "name": "ipython",
    "version": 3
   },
   "file_extension": ".py",
   "mimetype": "text/x-python",
   "name": "python",
   "nbconvert_exporter": "python",
   "pygments_lexer": "ipython3",
   "version": "3.8.2"
  }
 },
 "nbformat": 4,
 "nbformat_minor": 4
}
