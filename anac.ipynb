{
 "cells": [
  {
   "cell_type": "code",
   "execution_count": 1,
   "metadata": {},
   "outputs": [],
   "source": [
    "import pandas as pd\n",
    "from settings import *\n",
    "from scrape import *\n",
    "import matplotlib.pyplot as plt\n",
    "%matplotlib inline"
   ]
  },
  {
   "cell_type": "code",
   "execution_count": 2,
   "metadata": {},
   "outputs": [],
   "source": [
    "#scrapePage(anacUrl)"
   ]
  },
  {
   "cell_type": "code",
   "execution_count": null,
   "metadata": {
    "scrolled": true
   },
   "outputs": [
    {
     "name": "stdout",
     "output_type": "stream",
     "text": [
      "Lendo os arquivos do ano 2015\n",
      "114636\n",
      "216629\n",
      "327636\n",
      "434556\n",
      "542910\n",
      "648608\n",
      "760762\n",
      "868806\n"
     ]
    }
   ],
   "source": [
    "situacaoVoos = []\n",
    "fileCsvFinal = pd.DataFrame()\n",
    "for ano in range(2015, 2020):\n",
    "    print(f\"Lendo os arquivos do ano {ano}\")\n",
    "    for i in range(1, 13):\n",
    "            sep = [';', ',','\\t']\n",
    "            sepIndex = 0\n",
    "            while True:\n",
    "                try:\n",
    "                    fileCsv = pd.read_csv(\n",
    "                        f'data/{ano}-{i:02}.csv', encoding='ISO-8859-1', sep=sep[sepIndex], low_memory=False)\n",
    "                    if ('internet' in fileCsv.columns[0]):\n",
    "                        fileCsv.columns = fileCsv.iloc[0]\n",
    "                        fileCsv = fileCsv[1:]\n",
    "                    if len(fileCsv.columns) <= 1:\n",
    "                        raise ValueError('sepIndex')\n",
    "                    else:\n",
    "                        try:\n",
    "                            fileCsv = fileCsv.drop(columns='Data Prevista')\n",
    "                        except:\n",
    "                            pass\n",
    "                        fileCsv.columns = ['ICAO Empresa Aérea', 'Número Voo', 'Código DI', 'Código Tipo Linha',\n",
    "                                        'ICAO Aeródromo Origem', 'ICAO Aeródromo Destino', 'Partida Prevista',\n",
    "                                        'Partida Real', 'Chegada Prevista', 'Chegada Real', 'Situação Voo',\n",
    "                                        'Código Justificativa']\n",
    "                    \n",
    "                    fileCsv = fileCsv.assign(Ano = ano)\n",
    "                    fileCsv = fileCsv.assign(Mes = i)\n",
    "                    \n",
    "                    fileCsvFinal = pd.concat([fileCsvFinal, fileCsv])\n",
    "                    print(len(fileCsvFinal))\n",
    "                    break\n",
    "                except Exception as e:\n",
    "                    if e.args[0] == 'sepIndex':\n",
    "                        if (sepIndex < 3):\n",
    "                            sepIndex += 1\n",
    "                    else:\n",
    "                        print(e)"
   ]
  },
  {
   "cell_type": "code",
   "execution_count": null,
   "metadata": {
    "scrolled": true
   },
   "outputs": [],
   "source": [
    "situacao = fileCsvFinal['Situação Voo'].str.upper()\n",
    "situacaoVoos = situacao.value_counts()"
   ]
  },
  {
   "cell_type": "code",
   "execution_count": null,
   "metadata": {
    "scrolled": true
   },
   "outputs": [],
   "source": [
    "VoosPorAno = fileCsvFinal['Ano'].value_counts()\n",
    "VoosPorAno"
   ]
  },
  {
   "cell_type": "code",
   "execution_count": null,
   "metadata": {
    "scrolled": true
   },
   "outputs": [],
   "source": [
    "\n",
    "fig, axs = plt.subplots(figsize=(15, 5))\n",
    "VoosPorAno.plot(kind='bar')\n",
    "plt.xticks(rotation=50)\n",
    "labels = axs.get_xticklabels()\n",
    "for label in labels:\n",
    "    label.set_rotation(45)\n",
    "plt.setp(axs,\n",
    "yticks=[0, 200000, 400000, 600000, 800000, 1000000, 1200000])\n",
    "plt.show()"
   ]
  }
 ],
 "metadata": {
  "kernelspec": {
   "display_name": "Python 3",
   "language": "python",
   "name": "python3"
  },
  "language_info": {
   "codemirror_mode": {
    "name": "ipython",
    "version": 3
   },
   "file_extension": ".py",
   "mimetype": "text/x-python",
   "name": "python",
   "nbconvert_exporter": "python",
   "pygments_lexer": "ipython3",
   "version": "3.8.2"
  }
 },
 "nbformat": 4,
 "nbformat_minor": 4
}
