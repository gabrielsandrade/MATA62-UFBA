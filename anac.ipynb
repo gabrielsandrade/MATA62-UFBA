{
 "cells": [
  {
   "cell_type": "code",
   "execution_count": null,
   "metadata": {
    "colab": {
     "base_uri": "https://localhost:8080/",
     "height": 88
    },
    "id": "1LeuhtFctLmP",
    "outputId": "ea7491fa-bf7a-4454-e93a-6548595d9186"
   },
   "outputs": [],
   "source": [
    "!pip install wget"
   ]
  },
  {
   "cell_type": "code",
   "execution_count": 1,
   "metadata": {
    "id": "jfbqfDCTtJLY",
    "scrolled": true
   },
   "outputs": [],
   "source": [
    "import pandas as pd\n",
    "from settings import *\n",
    "from scrape import *\n",
    "import matplotlib.pyplot as plt\n",
    "import matplotlib\n",
    "import numpy as np\n",
    "from ipywidgets import interact\n",
    "import ipywidgets as widgets\n",
    "%matplotlib inline"
   ]
  },
  {
   "cell_type": "code",
   "execution_count": 2,
   "metadata": {
    "colab": {
     "base_uri": "https://localhost:8080/",
     "height": 1000
    },
    "id": "CDwJdFfTtJLf",
    "outputId": "9ed85f6a-6705-4e7e-921f-1d83e5e6a7af"
   },
   "outputs": [
    {
     "name": "stdout",
     "output_type": "stream",
     "text": [
      "2019\n",
      "2019-01.csv\n",
      "Arquivo já foi baixado anteriormente.\n",
      "2019-02.csv\n",
      "Arquivo já foi baixado anteriormente.\n",
      "2019-03.csv\n",
      "Arquivo já foi baixado anteriormente.\n",
      "2019-04.csv\n",
      "Arquivo já foi baixado anteriormente.\n",
      "2019-05.csv\n",
      "Arquivo já foi baixado anteriormente.\n",
      "2019-06.csv\n",
      "Arquivo já foi baixado anteriormente.\n",
      "2019-07.csv\n",
      "Arquivo já foi baixado anteriormente.\n",
      "2019-08.csv\n",
      "Arquivo já foi baixado anteriormente.\n",
      "2019-09.csv\n",
      "Arquivo já foi baixado anteriormente.\n",
      "2019-10.csv\n",
      "Arquivo já foi baixado anteriormente.\n",
      "2019-11.csv\n",
      "Arquivo já foi baixado anteriormente.\n",
      "2019-12.csv\n",
      "Arquivo já foi baixado anteriormente.\n",
      "2018\n",
      "2018-01.csv\n",
      "Arquivo já foi baixado anteriormente.\n",
      "2018-02.csv\n",
      "Arquivo já foi baixado anteriormente.\n",
      "2018-03.csv\n",
      "Arquivo já foi baixado anteriormente.\n",
      "2018-04.csv\n",
      "Arquivo já foi baixado anteriormente.\n",
      "2018-05.csv\n",
      "Arquivo já foi baixado anteriormente.\n",
      "2018-06.csv\n",
      "Arquivo já foi baixado anteriormente.\n",
      "2018-07.csv\n",
      "Arquivo já foi baixado anteriormente.\n",
      "2018-08.csv\n",
      "Arquivo já foi baixado anteriormente.\n",
      "2018-09.csv\n",
      "Arquivo já foi baixado anteriormente.\n",
      "2018-10.csv\n",
      "Arquivo já foi baixado anteriormente.\n",
      "2018-11.csv\n",
      "Arquivo já foi baixado anteriormente.\n",
      "2018-12.csv\n",
      "Arquivo já foi baixado anteriormente.\n",
      "2017\n",
      "2017-01.zip\n",
      "Arquivo já foi baixado anteriormente.\n",
      "2017-02.zip\n",
      "Arquivo já foi baixado anteriormente.\n",
      "2017-03.zip\n",
      "Arquivo já foi baixado anteriormente.\n",
      "2017-04.zip\n",
      "Arquivo já foi baixado anteriormente.\n",
      "2017-05.zip\n",
      "Arquivo já foi baixado anteriormente.\n",
      "2017-06.csv\n",
      "2017-07.csv\n",
      "Arquivo já foi baixado anteriormente.\n",
      "2017-08.csv\n",
      "Arquivo já foi baixado anteriormente.\n",
      "2017-09.xlsx\n",
      "Arquivo já foi baixado anteriormente.\n",
      "2017-10.csv\n",
      "Arquivo já foi baixado anteriormente.\n",
      "2017-11.csv\n",
      "Arquivo já foi baixado anteriormente.\n",
      "2017-12.csv\n",
      "Arquivo já foi baixado anteriormente.\n",
      "2016\n",
      "2016-01.zip\n",
      "Arquivo já foi baixado anteriormente.\n",
      "2016-02.zip\n",
      "Arquivo já foi baixado anteriormente.\n",
      "2016-03.zip\n",
      "Arquivo já foi baixado anteriormente.\n",
      "2016-04.zip\n",
      "Arquivo já foi baixado anteriormente.\n",
      "2016-05.csv\n",
      "Arquivo já foi baixado anteriormente.\n",
      "2016-06.csv\n",
      "Arquivo já foi baixado anteriormente.\n",
      "2016-07.zip\n",
      "Arquivo já foi baixado anteriormente.\n",
      "2016-08.zip\n",
      "Arquivo já foi baixado anteriormente.\n",
      "2016-09.zip\n",
      "Arquivo já foi baixado anteriormente.\n",
      "2016-10.zip\n",
      "Arquivo já foi baixado anteriormente.\n",
      "2016-11.zip\n",
      "Arquivo já foi baixado anteriormente.\n",
      "2016-12.zip\n",
      "Arquivo já foi baixado anteriormente.\n",
      "2015\n",
      "2015-01.zip\n",
      "Arquivo já foi baixado anteriormente.\n",
      "2015-02.zip\n",
      "Arquivo já foi baixado anteriormente.\n",
      "2015-03.zip\n",
      "Arquivo já foi baixado anteriormente.\n",
      "2015-04.zip\n",
      "Arquivo já foi baixado anteriormente.\n",
      "2015-05.zip\n",
      "Arquivo já foi baixado anteriormente.\n",
      "2015-06.zip\n",
      "Arquivo já foi baixado anteriormente.\n",
      "2015-07.zip\n",
      "Arquivo já foi baixado anteriormente.\n",
      "2015-08.zip\n",
      "Arquivo já foi baixado anteriormente.\n",
      "2015-09.zip\n",
      "Extraindo arquivo ZIP\n",
      "2015-10.zip\n",
      "Arquivo já foi baixado anteriormente.\n",
      "2015-11.zip\n",
      "Arquivo já foi baixado anteriormente.\n",
      "2015-12.zip\n",
      "Arquivo já foi baixado anteriormente.\n"
     ]
    }
   ],
   "source": [
    "scrapePage(anacUrl)"
   ]
  },
  {
   "cell_type": "code",
   "execution_count": 3,
   "metadata": {
    "colab": {
     "base_uri": "https://localhost:8080/",
     "height": 1000
    },
    "id": "Q0E4onz6tJLl",
    "jupyter": {
     "source_hidden": true
    },
    "outputId": "3f36a391-435c-45c9-a729-1c0f912d901e",
    "scrolled": true
   },
   "outputs": [
    {
     "name": "stdout",
     "output_type": "stream",
     "text": [
      "Lendo os arquivos do ano 2015\n",
      "114636\n",
      "216629\n",
      "327636\n",
      "434556\n",
      "542910\n",
      "648608\n",
      "760762\n",
      "868806\n",
      "976224\n",
      "1085370\n",
      "1189754\n",
      "1301570\n",
      "Lendo os arquivos do ano 2016\n",
      "1415829\n",
      "1517497\n",
      "1619362\n",
      "1718322\n",
      "1810178\n",
      "1898218\n",
      "1990804\n",
      "2082306\n",
      "2168746\n",
      "2258370\n",
      "2345436\n",
      "2440576\n",
      "Lendo os arquivos do ano 2017\n",
      "2539374\n",
      "2624374\n",
      "2716233\n",
      "2802437\n",
      "2893114\n",
      "2980986\n",
      "3077896\n",
      "3172081\n",
      "3261534\n",
      "3355080\n",
      "3446623\n",
      "3546060\n",
      "Lendo os arquivos do ano 2018\n",
      "3649557\n",
      "3739167\n",
      "3829956\n",
      "3909737\n",
      "3993491\n",
      "4073793\n",
      "4164009\n",
      "4248397\n",
      "4329316\n",
      "4412963\n",
      "4492988\n",
      "4580616\n",
      "Lendo os arquivos do ano 2019\n",
      "4672433\n",
      "4751959\n",
      "4835021\n",
      "4912465\n",
      "4989166\n",
      "5063355\n",
      "5149027\n",
      "5229616\n",
      "5310153\n",
      "5394392\n",
      "5475390\n",
      "5563607\n"
     ]
    }
   ],
   "source": [
    "situacaoVoos = []\n",
    "fileCsvFinal = pd.DataFrame()\n",
    "for ano in range(2015, 2020):\n",
    "    print(f\"Lendo os arquivos do ano {ano}\")\n",
    "    for i in range(1, 13):\n",
    "            sep = [';', ',','\\t']\n",
    "            sepIndex = 0\n",
    "            while True:\n",
    "                try:\n",
    "                    fileCsv = pd.read_csv(\n",
    "                        f'data/{ano}-{i:02}.csv', encoding='ISO-8859-1', sep=sep[sepIndex], low_memory=False)\n",
    "                    if ('internet' in fileCsv.columns[0]):\n",
    "                        fileCsv.columns = fileCsv.iloc[0]\n",
    "                        fileCsv = fileCsv[1:]\n",
    "                    if len(fileCsv.columns) <= 1:\n",
    "                        raise ValueError('sepIndex')\n",
    "                    else:\n",
    "                        try:\n",
    "                            fileCsv = fileCsv.drop(columns='Data Prevista')\n",
    "                        except:\n",
    "                            pass\n",
    "                        fileCsv.columns = ['ICAO Empresa Aérea', 'Número Voo', 'Código DI', 'Código Tipo Linha',\n",
    "                                        'ICAO Aeródromo Origem', 'ICAO Aeródromo Destino', 'Partida Prevista',\n",
    "                                        'Partida Real', 'Chegada Prevista', 'Chegada Real', 'Situação Voo',\n",
    "                                        'Código Justificativa']\n",
    "                    \n",
    "                    fileCsv = fileCsv.assign(Ano = ano)\n",
    "                    fileCsv = fileCsv.assign(Mes = i)\n",
    "                    \n",
    "                    fileCsvFinal = pd.concat([fileCsvFinal, fileCsv])\n",
    "                    print(len(fileCsvFinal))\n",
    "                    break\n",
    "                except Exception as e:\n",
    "                    if e.args[0] == 'sepIndex':\n",
    "                        if (sepIndex < 3):\n",
    "                            sepIndex += 1\n",
    "                    else:\n",
    "                        print(e)\n",
    "fileCsvFinal['Situação Voo'] = fileCsvFinal['Situação Voo'].str.upper()\n",
    "fileCsvFinal['Situação Voo'] = fileCsvFinal['Situação Voo'].str.replace('NÃO REALIZADO', 'CANCELADO', regex=False)"
   ]
  },
  {
   "cell_type": "code",
   "execution_count": 4,
   "metadata": {
    "colab": {
     "base_uri": "https://localhost:8080/",
     "height": 493
    },
    "id": "zq6x9YuztJLu",
    "outputId": "47cb4078-9c18-493c-93e7-87b97d97b9ea"
   },
   "outputs": [
    {
     "data": {
      "image/png": "[encoded data removed]",
      "text/plain": [
       "<Figure size 720x504 with 1 Axes>"
      ]
     },
     "metadata": {
      "needs_background": "light"
     },
     "output_type": "display_data"
    }
   ],
   "source": [
    "fig, ax = plt.subplots(figsize=(10,7))\n",
    "fig.suptitle(\"Dinâmica anual de vôos realizados/cancelados\", fontsize=20)\n",
    "SituacaoPorAno = pd.DataFrame()\n",
    "for situacao in fileCsvFinal['Situação Voo'].unique():\n",
    "    df = fileCsvFinal.loc[fileCsvFinal['Situação Voo'] == situacao]\n",
    "    df = df['Ano'].value_counts()\n",
    "    SituacaoPorAno= pd.concat([SituacaoPorAno, df], axis=1)\n",
    "SituacaoPorAno.columns = ['Realizado', 'Cancelado']\n",
    "graphRealizados = plt.bar(SituacaoPorAno['Realizado'].index, SituacaoPorAno['Realizado'].values, color='#740000', label = 'Realizados')\n",
    "graphCancelados = plt.bar(SituacaoPorAno['Cancelado'].index, SituacaoPorAno['Cancelado'].values, color='#5b616d', label = 'Cancelados')\n",
    "\n",
    "def autolabel(graph, color):\n",
    "  \n",
    "    for rect in graph:\n",
    "        valor = rect.get_height()\n",
    "        ax.annotate(f'{valor}',\n",
    "                    xy=(rect.get_x() + rect.get_width() / 2, valor),\n",
    "                    xytext=(0, 3),\n",
    "                    textcoords=\"offset points\",\n",
    "                    ha='center', va='bottom',\n",
    "                    color=color,\n",
    "                    fontsize=12)\n",
    "\n",
    "plt.ylabel('Quantidade de vôos (Milhão)')\n",
    "plt.xlabel('Ano')\n",
    "\n",
    "plt.legend(handles=[graphRealizados, graphCancelados])\n",
    "\n",
    "autolabel(graphRealizados, '#000')\n",
    "autolabel(graphCancelados, '#FFF')"
   ]
  },
  {
   "cell_type": "code",
   "execution_count": null,
   "metadata": {
    "colab": {
     "base_uri": "https://localhost:8080/",
     "height": 622
    },
    "id": "8lk_VsFjtJL5",
    "outputId": "04d0ec85-1428-463f-877f-395540d2402d",
    "scrolled": false
   },
   "outputs": [],
   "source": [
    "fig, ax = plt.subplots(figsize=(14, 8))\n",
    "fig.suptitle(\"Dinâmica mensal acumulada de vôos realizados/cancelados\", fontsize=20)\n",
    "SituacaoPorMes = pd.DataFrame()\n",
    "colors = ['#ff0000','#ffda00','#e76ec6','#03da00','#000','#e7bec6','#004000','#9abec6','#5b196e','#03da00','#03da00','#03da00']\n",
    "color=plt.cm.Paired(np.arange(12))\n",
    "# print(color)\n",
    "for mes in range(1, 13):\n",
    "    df = fileCsvFinal.loc[fileCsvFinal['Mes'] == mes]\n",
    "    df = df['Situação Voo'].value_counts()\n",
    "    SituacaoPorMes= pd.concat([SituacaoPorMes, df], axis=1)\n",
    "SituacaoPorMes.columns = ['Janeiro','Fevereiro','Março','Abril','Maio', 'Junho','Julho', 'Agosto','Setembro','Outubro', 'Novembro', 'Dezembro']\n",
    "# x = SituacaoPorMes.iloc[0].plot(kind='bar', ax=axs, width=0.8, color='#740000', label=\"Realizados\")\n",
    "x = plt.bar(SituacaoPorMes.iloc[0].index, SituacaoPorMes.iloc[0].values,  color='#740000', label = 'Realizados')\n",
    "y = plt.bar(SituacaoPorMes.iloc[1].index, SituacaoPorMes.iloc[1].values,  color='#5b616d', label = 'Cancelados')\n",
    "# SituacaoPorMes.iloc[1].plot(kind='bar', ax=axs, width=0.8, color=\"#5b616d\", label=\"Cancelados\")\n",
    "\n",
    "plt.ylabel('Quantidade de vôos')\n",
    "plt.xlabel('Mês')\n",
    "plt.legend(handles=[graphRealizados, graphCancelados])\n",
    "labels = ax.get_xticklabels()\n",
    "        \n",
    "for label in labels:\n",
    "    label.set_rotation(45)\n",
    "print(f\"Realizados : {int(SituacaoPorMes.iloc[0].sum())}\")\n",
    "print(f\"Cancelados : {int(SituacaoPorMes.iloc[1].sum())}\")\n",
    "autolabel(x, '#000')\n",
    "autolabel(y, \"#FFF\")"
   ]
  },
  {
   "cell_type": "code",
   "execution_count": 5,
   "metadata": {
    "colab": {
     "base_uri": "https://localhost:8080/",
     "height": 609,
     "referenced_widgets": [
      "5a1ec76468464778892ed7d41a021a92",
      "1ae8d87feadb4ac3a4b26c74923c8ad0",
      "0358e01455014c22ad79a85268476735",
      "eb64904c87104dcf85892835a0e9fdd1",
      "2c4069779f024eaf8b50f92c7df9e306",
      "d516354e0faf446c8c1f5844bcad7a68",
      "350b74c45ff84121bc5c3944984be0fc"
     ]
    },
    "id": "dIgeCQUstJL9",
    "outputId": "011ded20-ad3b-4bf5-ba36-7530dfb4aa8d",
    "scrolled": false
   },
   "outputs": [
    {
     "data": {
      "application/vnd.jupyter.widget-view+json": {
       "model_id": "ab045285ca974532bbb01286ace2e5c4",
       "version_major": 2,
       "version_minor": 0
      },
      "text/plain": [
       "interactive(children=(IntSlider(value=2014, description='ano', max=2019, min=2014), Output()), _dom_classes=('…"
      ]
     },
     "metadata": {},
     "output_type": "display_data"
    },
    {
     "data": {
      "text/plain": [
       "<function __main__.f(ano)>"
      ]
     },
     "execution_count": 5,
     "metadata": {},
     "output_type": "execute_result"
    }
   ],
   "source": [
    "colorPastel = plt.cm.Pastel1(np.arange(12))\n",
    "# colorBlack\n",
    "\n",
    "def autolabel(graph, color):\n",
    "  \n",
    "    for rect in graph:\n",
    "        valor = rect.get_height()\n",
    "        ax.annotate(f'{valor}',\n",
    "                    xy=(rect.get_x() + rect.get_width() / 2, valor),\n",
    "                    xytext=(0, 3),\n",
    "                    textcoords=\"offset points\",\n",
    "                    ha='center', va='bottom',\n",
    "                    color=color,\n",
    "                    fontsize=12)\n",
    "def f(ano):\n",
    "    fig, ax = plt.subplots(figsize=(14, 7))\n",
    "    fig.suptitle(\"Dinâmica mensal de vôos Realizados/Cancelados\", fontsize=20)\n",
    "    if(ano < 2015):\n",
    "        df = fileCsvFinal\n",
    "    else:\n",
    "        df = fileCsvFinal.loc[fileCsvFinal['Ano'] == ano]\n",
    "    SituacaoPorMes = pd.DataFrame()\n",
    "    for mes in range(1, 13):\n",
    "        df2 = df.loc[df['Mes'] == mes]\n",
    "        df2 = df2['Situação Voo'].value_counts()\n",
    "        SituacaoPorMes= pd.concat([SituacaoPorMes, df2], axis=1)\n",
    "    SituacaoPorMes.columns = ['Janeiro','Fevereiro','Março','Abril','Maio', 'Junho','Julho', 'Agosto','Setembro','Outubro', 'Novembro', 'Dezembro']\n",
    "    \n",
    "    x = plt.bar(SituacaoPorMes.iloc[0].index, SituacaoPorMes.iloc[0].values,  color='#740000', label = 'Realizados')\n",
    "    y = plt.bar(SituacaoPorMes.iloc[1].index, SituacaoPorMes.iloc[1].values,  color='#5b616d', label = 'Cancelados')\n",
    "        \n",
    "    plt.ylabel('Quantidade de vôos')\n",
    "    plt.xlabel('Mês')\n",
    "    plt.legend(handles=[graphRealizados, graphCancelados])\n",
    "\n",
    "    labels = ax.get_xticklabels()\n",
    "    for label in labels:\n",
    "        label.set_rotation(45)\n",
    "    print(f\"Média de voos realizados : {np.around(int(SituacaoPorMes.iloc[0].mean()))}\")\n",
    "    print(f\"Média de voos cancelados : {np.around(int(SituacaoPorMes.iloc[1].mean()))}\")\n",
    "    autolabel(x, '#000')\n",
    "    autolabel(y, \"#FFF\")\n",
    "\n",
    "\n",
    "\n",
    "interact(f, ano=widgets.IntSlider(min=2014,max=2019,step=1,value=2014))"
   ]
  },
  {
   "cell_type": "markdown",
   "metadata": {
    "id": "XH7_NU2rtJMF"
   },
   "source": [
    "## Participação das principais empresas no cenário aéreo brasileiro"
   ]
  },
  {
   "cell_type": "code",
   "execution_count": 12,
   "metadata": {
    "colab": {
     "base_uri": "https://localhost:8080/",
     "height": 417,
     "referenced_widgets": [
      "3b0d414a724d46e782974e9134ee4e7b",
      "4eefa473b8d34fb3b6ae1db65c4cd553",
      "be86cfc8f8ff4f4aa27e6ae5a4b83c03",
      "afc4764792b9497996d756d77a485118",
      "178fa8cee8894a979a6274c7517db15e",
      "f2df9db1983c4401912e83b4e2b1f4d7",
      "bd7e6b581b4e4a0a96747df63fc34424",
      "5a797c24daa84708b8e4b0ba0c6d97f9",
      "b2d54dbb2b78458f81500920913dfb72",
      "b616aaabf26f4d8da8afeb161ac3c6e0",
      "480a46e219704371b7c426f6e15b24ea",
      "f68dc36701d84f8b89b3b75d01f1ab9b",
      "81091c16db0d495ea8e3ddf29d6736ee"
     ]
    },
    "id": "k4PpthI2tJMG",
    "outputId": "5e3a5c33-5eaa-44f7-c583-67affc52bde4"
   },
   "outputs": [
    {
     "data": {
      "application/vnd.jupyter.widget-view+json": {
       "model_id": "e5414438b5154dc5ba68780a09070abc",
       "version_major": 2,
       "version_minor": 0
      },
      "text/plain": [
       "interactive(children=(IntSlider(value=2014, description='ano', max=2019, min=2014), IntSlider(value=0, descrip…"
      ]
     },
     "metadata": {},
     "output_type": "display_data"
    },
    {
     "data": {
      "text/plain": [
       "<function __main__.f(ano, mes, empresas)>"
      ]
     },
     "execution_count": 12,
     "metadata": {},
     "output_type": "execute_result"
    }
   ],
   "source": [
    "explode = [0.05]\n",
    "pieColors=['#ff0000', '#5b616d', '#7a3f7a', '#80a07a', '#c3867a', '#55e5e5']\n",
    "def f(ano, mes, empresas):\n",
    "    explode = [0.05]\n",
    "    for i in range(empresas):\n",
    "        explode.append(0)\n",
    "    fig = plt.figure(figsize=(8,5))\n",
    "\n",
    "    title = f\"Participação das {empresas} empresas com maior número de voos\"\n",
    "    if (ano >= 2015) :\n",
    "        voosPorAno = fileCsvFinal.loc[fileCsvFinal['Ano'] == ano]\n",
    "        title += f\" em {ano}\"\n",
    "    else:\n",
    "        voosPorAno = fileCsvFinal\n",
    "    voosRealizados = voosPorAno[voosPorAno['Situação Voo'] == 'REALIZADO']\n",
    "    voosCancelados = voosPorAno[voosPorAno['Situação Voo'] == 'CANCELADO']\n",
    "    if (mes >= 1 and mes <= 12):\n",
    "        title += f\" no mês {mes}\"\n",
    "        voosRealizados = voosRealizados.loc[voosRealizados['Mes'] == mes]['ICAO Empresa Aérea'].value_counts()\n",
    "        voosCancelados = voosCancelados.loc[voosCancelados['Mes'] == mes]['ICAO Empresa Aérea'].value_counts()\n",
    "    else:\n",
    "        voosRealizados = voosRealizados['ICAO Empresa Aérea'].value_counts()\n",
    "        voosCancelados = voosCancelados['ICAO Empresa Aérea'].value_counts()\n",
    "    fig.suptitle('Participação das principais empresas no cenário aéreo brasileiro', fontsize=20)\n",
    "\n",
    "\n",
    "    outrasEmpresas = voosRealizados[voosRealizados < voosRealizados[empresas - 1]]\n",
    "    outrasEmpresasRealizadosDf = pd.Series({'Outros' : outrasEmpresas.sum()})\n",
    "    voosRealizadosDF = pd.concat([voosRealizados[:empresas], outrasEmpresasRealizadosDf])\n",
    "\n",
    "    outrasEmpresasCancelados = voosCancelados[voosCancelados < voosCancelados[empresas - 1]]\n",
    "    outrasEmpresasCanceladosDf = pd.Series({'Outros' : outrasEmpresasCancelados.sum()})\n",
    "    voosCanceladosDF = pd.concat([voosCancelados[:empresas], outrasEmpresasCanceladosDf])\n",
    "    \n",
    "    \n",
    "    ax1 = plt.subplot2grid((1,2),(0,0))\n",
    "    ax1.set_title(\"Realizado\")\n",
    "    plt.pie(voosRealizadosDF, autopct='%1.1f%%', explode=explode, shadow=True, labels=voosRealizadosDF.index, colors=pieColors)\n",
    "    \n",
    "    ax2 = plt.subplot2grid((1,2),(0,1))\n",
    "    ax2.set_title(\"Cancelados\")\n",
    "    plt.pie(voosCanceladosDF, autopct='%1.1f%%', explode=explode, shadow=True, labels=voosCanceladosDF.index, colors=pieColors)\n",
    "interact(f, ano=widgets.IntSlider(min=2014,max=2019,step=1,value=2014), mes=widgets.IntSlider(min=0,max=12,step=1,value=0), empresas=widgets.IntSlider(min=2,max=5,step=1,value=2))"
   ]
  },
  {
   "cell_type": "code",
   "execution_count": 11,
   "metadata": {
    "colab": {
     "base_uri": "https://localhost:8080/",
     "height": 651,
     "referenced_widgets": [
      "1e6c2ec8872d4550abd526c78babace0",
      "1a3b5c74eb11420b9d78223cf7400de7",
      "b57c0b079eea49e9b85615baf860a077",
      "694c33b0c9904becb3b24c8b11061770",
      "6a476c281787445f9f6a972931a9549c",
      "a90078284a534caabbae577d3fc57184",
      "4e168968bb9b44fe999bac3a86e15285",
      "d0daa8a94d294e879774b9495d84c098",
      "c7adb5fab53f41c58edfa47505b9a992",
      "49b0419f20674fc6b3d75be5fc03433e"
     ]
    },
    "id": "V2tTVg7xtJMT",
    "outputId": "fdaa01fe-d3bd-497b-af40-febe324fd95a"
   },
   "outputs": [
    {
     "data": {
      "application/vnd.jupyter.widget-view+json": {
       "model_id": "edd32886219645068c766c22a9d1e6af",
       "version_major": 2,
       "version_minor": 0
      },
      "text/plain": [
       "interactive(children=(IntSlider(value=2015, description='ano', max=2019, min=2014), IntSlider(value=0, descrip…"
      ]
     },
     "metadata": {},
     "output_type": "display_data"
    },
    {
     "data": {
      "text/plain": [
       "<function __main__.f(ano, mes)>"
      ]
     },
     "execution_count": 11,
     "metadata": {},
     "output_type": "execute_result"
    }
   ],
   "source": [
    "def f(ano, mes):\n",
    "    fig, ax = plt.subplots(figsize=(10,6))\n",
    "    fig.suptitle(\"Tipos de vôos\", fontsize=20)\n",
    "    if (ano >= 2015) :\n",
    "        linhas = fileCsvFinal.loc[fileCsvFinal['Ano'] == ano]\n",
    "    else:\n",
    "        linhas = fileCsvFinal\n",
    "    if (mes >= 1 and mes <= 12):\n",
    "        linhas = linhas.loc[linhas['Mes'] == mes]['Código Tipo Linha'].value_counts()\n",
    "    else:\n",
    "        linhas = linhas['Código Tipo Linha'].value_counts()\n",
    "    tiposDeVoos = plt.bar(linhas.index[:], linhas.values[:], color='#7a3f7a')\n",
    "    def autolabel(graph, color):\n",
    "    \n",
    "        for rect in graph:\n",
    "            valor = rect.get_height()\n",
    "            ax.annotate(f'{valor}',\n",
    "                      xy=(rect.get_x() + rect.get_width() / 2, valor),\n",
    "                      xytext=(0, 3),\n",
    "                      textcoords=\"offset points\",\n",
    "                      ha='center', va='bottom',\n",
    "                      color=color,\n",
    "                      fontsize=12)\n",
    "    autolabel(tiposDeVoos, '#000')\n",
    "  # labels = ax.get_xticklabels()\n",
    "  # for label in labels:\n",
    "  #     label.set_rotation(45)\n",
    "    print(\"N - Nacional\\nR - Regional\\nI = Internacional\\nE - Especial\\nG - Cargueiro Internacional\\nC - Cargueiro\\nL - Rede Postal\\nH - Sub-Regional\")\n",
    "interact(f, ano=widgets.IntSlider(min=2014,max=2019,step=1,value=2015),mes=widgets.IntSlider(min=0,max=12,step=1,value=0))"
   ]
  },
  {
   "cell_type": "code",
   "execution_count": 8,
   "metadata": {
    "colab": {
     "base_uri": "https://localhost:8080/",
     "height": 197
    },
    "id": "Bp88H4altJMb",
    "outputId": "703d57c8-bfdb-4d4c-bc2b-721b104f6252"
   },
   "outputs": [
    {
     "data": {
      "application/vnd.jupyter.widget-view+json": {
       "model_id": "620f13a6592743d285af33d62f459450",
       "version_major": 2,
       "version_minor": 0
      },
      "text/plain": [
       "interactive(children=(IntSlider(value=5, description='aeroportos', max=30, min=5), IntSlider(value=2015, descr…"
      ]
     },
     "metadata": {},
     "output_type": "display_data"
    },
    {
     "data": {
      "text/plain": [
       "<function __main__.f(aeroportos, ano, mes)>"
      ]
     },
     "execution_count": 8,
     "metadata": {},
     "output_type": "execute_result"
    }
   ],
   "source": [
    "def f(aeroportos, ano, mes):\n",
    "    fig, axs = plt.subplots(nrows=1, figsize=(10, 5))\n",
    "    fig.suptitle(f'Concentração dos {aeroportos} aeroportos com maior número de partida de vôos - 2015 a 2019', fontsize=20)\n",
    "    voosRealizados = fileCsvFinal.loc[fileCsvFinal['Situação Voo'] == 'REALIZADO']\n",
    "    \n",
    "    if (ano >= 2015) :\n",
    "        aeroportosComMaisVoos = voosRealizados.loc[voosRealizados['Ano'] == ano]\n",
    "    else:\n",
    "        aeroportosComMaisVoos = voosRealizados\n",
    "    if (mes >= 1 and mes <= 12):\n",
    "        aeroportosComMaisVoos = aeroportosComMaisVoos.loc[aeroportosComMaisVoos['Mes'] == mes]['ICAO Aeródromo Origem'].value_counts()\n",
    "    else:\n",
    "        aeroportosComMaisVoos = aeroportosComMaisVoos['ICAO Aeródromo Origem'].value_counts()\n",
    "    \n",
    "    aeroportosComMaisVoos[:aeroportos].plot(kind='bar')\n",
    "    labels = ax.get_xticklabels()\n",
    "    for label in labels:\n",
    "        label.set_rotation(45)\n",
    "interact(f, aeroportos=widgets.IntSlider(min=5,max=30,step=1,value=5), ano=widgets.IntSlider(min=2014,max=2019,step=1,value=2015),mes=widgets.IntSlider(min=0,max=12,step=1,value=0))"
   ]
  },
  {
   "cell_type": "code",
   "execution_count": 9,
   "metadata": {},
   "outputs": [
    {
     "data": {
      "application/vnd.jupyter.widget-view+json": {
       "model_id": "0583c6faa2914d4ea4db86bd67bc6755",
       "version_major": 2,
       "version_minor": 0
      },
      "text/plain": [
       "interactive(children=(IntSlider(value=5, description='aeroportos', max=30, min=5), IntSlider(value=2015, descr…"
      ]
     },
     "metadata": {},
     "output_type": "display_data"
    },
    {
     "data": {
      "text/plain": [
       "<function __main__.f(aeroportos, ano, mes)>"
      ]
     },
     "execution_count": 9,
     "metadata": {},
     "output_type": "execute_result"
    }
   ],
   "source": [
    "def f(aeroportos, ano, mes):\n",
    "    fig, axs = plt.subplots(nrows=1, figsize=(10, 5))\n",
    "    fig.suptitle(f'Concentração dos {aeroportos} aeroportos com maior número de chegada de vôos - 2015 a 2019', fontsize=20)\n",
    "    voosRealizados = fileCsvFinal.loc[fileCsvFinal['Situação Voo'] == 'REALIZADO']\n",
    "    \n",
    "    if (ano >= 2015) :\n",
    "        aeroportosComMaisVoos = voosRealizados.loc[voosRealizados['Ano'] == ano]\n",
    "    else:\n",
    "        aeroportosComMaisVoos = voosRealizados\n",
    "    if (mes >= 1 and mes <= 12):\n",
    "        aeroportosComMaisVoos = aeroportosComMaisVoos.loc[aeroportosComMaisVoos['Mes'] == mes]['ICAO Aeródromo Destino'].value_counts()\n",
    "    else:\n",
    "        aeroportosComMaisVoos = aeroportosComMaisVoos['ICAO Aeródromo Destino'].value_counts()\n",
    "    \n",
    "    aeroportosComMaisVoos[:aeroportos].plot(kind='bar')\n",
    "    labels = ax.get_xticklabels()\n",
    "    for label in labels:\n",
    "        label.set_rotation(45)\n",
    "interact(f, aeroportos=widgets.IntSlider(min=5,max=30,step=1,value=5), ano=widgets.IntSlider(min=2014,max=2019,step=1,value=2015),mes=widgets.IntSlider(min=0,max=12,step=1,value=0))"
   ]
  }
 ],
 "metadata": {
  "colab": {
   "name": "Copy of anac.ipynb",
   "provenance": []
  },
  "kernelspec": {
   "display_name": "Python 3",
   "language": "python",
   "name": "python3"
  },
  "language_info": {
   "codemirror_mode": {
    "name": "ipython",
    "version": 3
   },
   "file_extension": ".py",
   "mimetype": "text/x-python",
   "name": "python",
   "nbconvert_exporter": "python",
   "pygments_lexer": "ipython3",
   "version": "3.8.2"
  },
  "widgets": {
   "application/vnd.jupyter.widget-state+json": {
    "0358e01455014c22ad79a85268476735": {
     "model_module": "@jupyter-widgets/controls",
     "model_name": "IntSliderModel",
     "state": {
      "_dom_classes": [],
      "_model_module": "@jupyter-widgets/controls",
      "_model_module_version": "1.5.0",
      "_model_name": "IntSliderModel",
      "_view_count": null,
      "_view_module": "@jupyter-widgets/controls",
      "_view_module_version": "1.5.0",
      "_view_name": "IntSliderView",
      "continuous_update": true,
      "description": "ano",
      "description_tooltip": null,
      "disabled": false,
      "layout": "IPY_MODEL_d516354e0faf446c8c1f5844bcad7a68",
      "max": 2019,
      "min": 2014,
      "orientation": "horizontal",
      "readout": true,
      "readout_format": "d",
      "step": 1,
      "style": "IPY_MODEL_2c4069779f024eaf8b50f92c7df9e306",
      "value": 2019
     }
    },
    "178fa8cee8894a979a6274c7517db15e": {
     "model_module": "@jupyter-widgets/controls",
     "model_name": "IntSliderModel",
     "state": {
      "_dom_classes": [],
      "_model_module": "@jupyter-widgets/controls",
      "_model_module_version": "1.5.0",
      "_model_name": "IntSliderModel",
      "_view_count": null,
      "_view_module": "@jupyter-widgets/controls",
      "_view_module_version": "1.5.0",
      "_view_name": "IntSliderView",
      "continuous_update": true,
      "description": "empresas",
      "description_tooltip": null,
      "disabled": false,
      "layout": "IPY_MODEL_f68dc36701d84f8b89b3b75d01f1ab9b",
      "max": 5,
      "min": 2,
      "orientation": "horizontal",
      "readout": true,
      "readout_format": "d",
      "step": 1,
      "style": "IPY_MODEL_480a46e219704371b7c426f6e15b24ea",
      "value": 3
     }
    },
    "1a3b5c74eb11420b9d78223cf7400de7": {
     "model_module": "@jupyter-widgets/base",
     "model_name": "LayoutModel",
     "state": {
      "_model_module": "@jupyter-widgets/base",
      "_model_module_version": "1.2.0",
      "_model_name": "LayoutModel",
      "_view_count": null,
      "_view_module": "@jupyter-widgets/base",
      "_view_module_version": "1.2.0",
      "_view_name": "LayoutView",
      "align_content": null,
      "align_items": null,
      "align_self": null,
      "border": null,
      "bottom": null,
      "display": null,
      "flex": null,
      "flex_flow": null,
      "grid_area": null,
      "grid_auto_columns": null,
      "grid_auto_flow": null,
      "grid_auto_rows": null,
      "grid_column": null,
      "grid_gap": null,
      "grid_row": null,
      "grid_template_areas": null,
      "grid_template_columns": null,
      "grid_template_rows": null,
      "height": null,
      "justify_content": null,
      "justify_items": null,
      "left": null,
      "margin": null,
      "max_height": null,
      "max_width": null,
      "min_height": null,
      "min_width": null,
      "object_fit": null,
      "object_position": null,
      "order": null,
      "overflow": null,
      "overflow_x": null,
      "overflow_y": null,
      "padding": null,
      "right": null,
      "top": null,
      "visibility": null,
      "width": null
     }
    },
    "1ae8d87feadb4ac3a4b26c74923c8ad0": {
     "model_module": "@jupyter-widgets/base",
     "model_name": "LayoutModel",
     "state": {
      "_model_module": "@jupyter-widgets/base",
      "_model_module_version": "1.2.0",
      "_model_name": "LayoutModel",
      "_view_count": null,
      "_view_module": "@jupyter-widgets/base",
      "_view_module_version": "1.2.0",
      "_view_name": "LayoutView",
      "align_content": null,
      "align_items": null,
      "align_self": null,
      "border": null,
      "bottom": null,
      "display": null,
      "flex": null,
      "flex_flow": null,
      "grid_area": null,
      "grid_auto_columns": null,
      "grid_auto_flow": null,
      "grid_auto_rows": null,
      "grid_column": null,
      "grid_gap": null,
      "grid_row": null,
      "grid_template_areas": null,
      "grid_template_columns": null,
      "grid_template_rows": null,
      "height": null,
      "justify_content": null,
      "justify_items": null,
      "left": null,
      "margin": null,
      "max_height": null,
      "max_width": null,
      "min_height": null,
      "min_width": null,
      "object_fit": null,
      "object_position": null,
      "order": null,
      "overflow": null,
      "overflow_x": null,
      "overflow_y": null,
      "padding": null,
      "right": null,
      "top": null,
      "visibility": null,
      "width": null
     }
    },
    "1e6c2ec8872d4550abd526c78babace0": {
     "model_module": "@jupyter-widgets/controls",
     "model_name": "VBoxModel",
     "state": {
      "_dom_classes": [
       "widget-interact"
      ],
      "_model_module": "@jupyter-widgets/controls",
      "_model_module_version": "1.5.0",
      "_model_name": "VBoxModel",
      "_view_count": null,
      "_view_module": "@jupyter-widgets/controls",
      "_view_module_version": "1.5.0",
      "_view_name": "VBoxView",
      "box_style": "",
      "children": [
       "IPY_MODEL_b57c0b079eea49e9b85615baf860a077",
       "IPY_MODEL_694c33b0c9904becb3b24c8b11061770",
       "IPY_MODEL_6a476c281787445f9f6a972931a9549c"
      ],
      "layout": "IPY_MODEL_1a3b5c74eb11420b9d78223cf7400de7"
     }
    },
    "2c4069779f024eaf8b50f92c7df9e306": {
     "model_module": "@jupyter-widgets/controls",
     "model_name": "SliderStyleModel",
     "state": {
      "_model_module": "@jupyter-widgets/controls",
      "_model_module_version": "1.5.0",
      "_model_name": "SliderStyleModel",
      "_view_count": null,
      "_view_module": "@jupyter-widgets/base",
      "_view_module_version": "1.2.0",
      "_view_name": "StyleView",
      "description_width": "",
      "handle_color": null
     }
    },
    "350b74c45ff84121bc5c3944984be0fc": {
     "model_module": "@jupyter-widgets/base",
     "model_name": "LayoutModel",
     "state": {
      "_model_module": "@jupyter-widgets/base",
      "_model_module_version": "1.2.0",
      "_model_name": "LayoutModel",
      "_view_count": null,
      "_view_module": "@jupyter-widgets/base",
      "_view_module_version": "1.2.0",
      "_view_name": "LayoutView",
      "align_content": null,
      "align_items": null,
      "align_self": null,
      "border": null,
      "bottom": null,
      "display": null,
      "flex": null,
      "flex_flow": null,
      "grid_area": null,
      "grid_auto_columns": null,
      "grid_auto_flow": null,
      "grid_auto_rows": null,
      "grid_column": null,
      "grid_gap": null,
      "grid_row": null,
      "grid_template_areas": null,
      "grid_template_columns": null,
      "grid_template_rows": null,
      "height": null,
      "justify_content": null,
      "justify_items": null,
      "left": null,
      "margin": null,
      "max_height": null,
      "max_width": null,
      "min_height": null,
      "min_width": null,
      "object_fit": null,
      "object_position": null,
      "order": null,
      "overflow": null,
      "overflow_x": null,
      "overflow_y": null,
      "padding": null,
      "right": null,
      "top": null,
      "visibility": null,
      "width": null
     }
    },
    "3b0d414a724d46e782974e9134ee4e7b": {
     "model_module": "@jupyter-widgets/controls",
     "model_name": "VBoxModel",
     "state": {
      "_dom_classes": [
       "widget-interact"
      ],
      "_model_module": "@jupyter-widgets/controls",
      "_model_module_version": "1.5.0",
      "_model_name": "VBoxModel",
      "_view_count": null,
      "_view_module": "@jupyter-widgets/controls",
      "_view_module_version": "1.5.0",
      "_view_name": "VBoxView",
      "box_style": "",
      "children": [
       "IPY_MODEL_be86cfc8f8ff4f4aa27e6ae5a4b83c03",
       "IPY_MODEL_afc4764792b9497996d756d77a485118",
       "IPY_MODEL_178fa8cee8894a979a6274c7517db15e",
       "IPY_MODEL_f2df9db1983c4401912e83b4e2b1f4d7"
      ],
      "layout": "IPY_MODEL_4eefa473b8d34fb3b6ae1db65c4cd553"
     }
    },
    "480a46e219704371b7c426f6e15b24ea": {
     "model_module": "@jupyter-widgets/controls",
     "model_name": "SliderStyleModel",
     "state": {
      "_model_module": "@jupyter-widgets/controls",
      "_model_module_version": "1.5.0",
      "_model_name": "SliderStyleModel",
      "_view_count": null,
      "_view_module": "@jupyter-widgets/base",
      "_view_module_version": "1.2.0",
      "_view_name": "StyleView",
      "description_width": "",
      "handle_color": null
     }
    },
    "49b0419f20674fc6b3d75be5fc03433e": {
     "model_module": "@jupyter-widgets/base",
     "model_name": "LayoutModel",
     "state": {
      "_model_module": "@jupyter-widgets/base",
      "_model_module_version": "1.2.0",
      "_model_name": "LayoutModel",
      "_view_count": null,
      "_view_module": "@jupyter-widgets/base",
      "_view_module_version": "1.2.0",
      "_view_name": "LayoutView",
      "align_content": null,
      "align_items": null,
      "align_self": null,
      "border": null,
      "bottom": null,
      "display": null,
      "flex": null,
      "flex_flow": null,
      "grid_area": null,
      "grid_auto_columns": null,
      "grid_auto_flow": null,
      "grid_auto_rows": null,
      "grid_column": null,
      "grid_gap": null,
      "grid_row": null,
      "grid_template_areas": null,
      "grid_template_columns": null,
      "grid_template_rows": null,
      "height": null,
      "justify_content": null,
      "justify_items": null,
      "left": null,
      "margin": null,
      "max_height": null,
      "max_width": null,
      "min_height": null,
      "min_width": null,
      "object_fit": null,
      "object_position": null,
      "order": null,
      "overflow": null,
      "overflow_x": null,
      "overflow_y": null,
      "padding": null,
      "right": null,
      "top": null,
      "visibility": null,
      "width": null
     }
    },
    "4e168968bb9b44fe999bac3a86e15285": {
     "model_module": "@jupyter-widgets/base",
     "model_name": "LayoutModel",
     "state": {
      "_model_module": "@jupyter-widgets/base",
      "_model_module_version": "1.2.0",
      "_model_name": "LayoutModel",
      "_view_count": null,
      "_view_module": "@jupyter-widgets/base",
      "_view_module_version": "1.2.0",
      "_view_name": "LayoutView",
      "align_content": null,
      "align_items": null,
      "align_self": null,
      "border": null,
      "bottom": null,
      "display": null,
      "flex": null,
      "flex_flow": null,
      "grid_area": null,
      "grid_auto_columns": null,
      "grid_auto_flow": null,
      "grid_auto_rows": null,
      "grid_column": null,
      "grid_gap": null,
      "grid_row": null,
      "grid_template_areas": null,
      "grid_template_columns": null,
      "grid_template_rows": null,
      "height": null,
      "justify_content": null,
      "justify_items": null,
      "left": null,
      "margin": null,
      "max_height": null,
      "max_width": null,
      "min_height": null,
      "min_width": null,
      "object_fit": null,
      "object_position": null,
      "order": null,
      "overflow": null,
      "overflow_x": null,
      "overflow_y": null,
      "padding": null,
      "right": null,
      "top": null,
      "visibility": null,
      "width": null
     }
    },
    "4eefa473b8d34fb3b6ae1db65c4cd553": {
     "model_module": "@jupyter-widgets/base",
     "model_name": "LayoutModel",
     "state": {
      "_model_module": "@jupyter-widgets/base",
      "_model_module_version": "1.2.0",
      "_model_name": "LayoutModel",
      "_view_count": null,
      "_view_module": "@jupyter-widgets/base",
      "_view_module_version": "1.2.0",
      "_view_name": "LayoutView",
      "align_content": null,
      "align_items": null,
      "align_self": null,
      "border": null,
      "bottom": null,
      "display": null,
      "flex": null,
      "flex_flow": null,
      "grid_area": null,
      "grid_auto_columns": null,
      "grid_auto_flow": null,
      "grid_auto_rows": null,
      "grid_column": null,
      "grid_gap": null,
      "grid_row": null,
      "grid_template_areas": null,
      "grid_template_columns": null,
      "grid_template_rows": null,
      "height": null,
      "justify_content": null,
      "justify_items": null,
      "left": null,
      "margin": null,
      "max_height": null,
      "max_width": null,
      "min_height": null,
      "min_width": null,
      "object_fit": null,
      "object_position": null,
      "order": null,
      "overflow": null,
      "overflow_x": null,
      "overflow_y": null,
      "padding": null,
      "right": null,
      "top": null,
      "visibility": null,
      "width": null
     }
    },
    "5a1ec76468464778892ed7d41a021a92": {
     "model_module": "@jupyter-widgets/controls",
     "model_name": "VBoxModel",
     "state": {
      "_dom_classes": [
       "widget-interact"
      ],
      "_model_module": "@jupyter-widgets/controls",
      "_model_module_version": "1.5.0",
      "_model_name": "VBoxModel",
      "_view_count": null,
      "_view_module": "@jupyter-widgets/controls",
      "_view_module_version": "1.5.0",
      "_view_name": "VBoxView",
      "box_style": "",
      "children": [
       "IPY_MODEL_0358e01455014c22ad79a85268476735",
       "IPY_MODEL_eb64904c87104dcf85892835a0e9fdd1"
      ],
      "layout": "IPY_MODEL_1ae8d87feadb4ac3a4b26c74923c8ad0"
     }
    },
    "5a797c24daa84708b8e4b0ba0c6d97f9": {
     "model_module": "@jupyter-widgets/base",
     "model_name": "LayoutModel",
     "state": {
      "_model_module": "@jupyter-widgets/base",
      "_model_module_version": "1.2.0",
      "_model_name": "LayoutModel",
      "_view_count": null,
      "_view_module": "@jupyter-widgets/base",
      "_view_module_version": "1.2.0",
      "_view_name": "LayoutView",
      "align_content": null,
      "align_items": null,
      "align_self": null,
      "border": null,
      "bottom": null,
      "display": null,
      "flex": null,
      "flex_flow": null,
      "grid_area": null,
      "grid_auto_columns": null,
      "grid_auto_flow": null,
      "grid_auto_rows": null,
      "grid_column": null,
      "grid_gap": null,
      "grid_row": null,
      "grid_template_areas": null,
      "grid_template_columns": null,
      "grid_template_rows": null,
      "height": null,
      "justify_content": null,
      "justify_items": null,
      "left": null,
      "margin": null,
      "max_height": null,
      "max_width": null,
      "min_height": null,
      "min_width": null,
      "object_fit": null,
      "object_position": null,
      "order": null,
      "overflow": null,
      "overflow_x": null,
      "overflow_y": null,
      "padding": null,
      "right": null,
      "top": null,
      "visibility": null,
      "width": null
     }
    },
    "694c33b0c9904becb3b24c8b11061770": {
     "model_module": "@jupyter-widgets/controls",
     "model_name": "IntSliderModel",
     "state": {
      "_dom_classes": [],
      "_model_module": "@jupyter-widgets/controls",
      "_model_module_version": "1.5.0",
      "_model_name": "IntSliderModel",
      "_view_count": null,
      "_view_module": "@jupyter-widgets/controls",
      "_view_module_version": "1.5.0",
      "_view_name": "IntSliderView",
      "continuous_update": true,
      "description": "mes",
      "description_tooltip": null,
      "disabled": false,
      "layout": "IPY_MODEL_c7adb5fab53f41c58edfa47505b9a992",
      "max": 12,
      "min": 0,
      "orientation": "horizontal",
      "readout": true,
      "readout_format": "d",
      "step": 1,
      "style": "IPY_MODEL_d0daa8a94d294e879774b9495d84c098",
      "value": 0
     }
    },
    "6a476c281787445f9f6a972931a9549c": {
     "model_module": "@jupyter-widgets/output",
     "model_name": "OutputModel",
     "state": {
      "_dom_classes": [],
      "_model_module": "@jupyter-widgets/output",
      "_model_module_version": "1.0.0",
      "_model_name": "OutputModel",
      "_view_count": null,
      "_view_module": "@jupyter-widgets/output",
      "_view_module_version": "1.0.0",
      "_view_name": "OutputView",
      "layout": "IPY_MODEL_49b0419f20674fc6b3d75be5fc03433e",
      "msg_id": "",
      "outputs": [
       {
        "metadata": {
         "tags": []
        },
        "output_type": "stream",
        "stream": "stdout",
        "text": "<a list of 12 Text major ticklabel objects>\nN - Nacional\nR - Regional\nI = Internacional\nE - Especial\nG - Cargueiro Internacional\nC - Cargueiro\nL - Rede Postal\nH - Sub-Regional\n"
       },
       {
        "image/png": "iVBORw0KGgoAAAANSUhEUgAAAlMAAAGQCAYAAACK1eVvAAAABHNCSVQICAgIfAhkiAAAAAlwSFlzAAALEgAACxIB0t1+/AAAADh0RVh0U29mdHdhcmUAbWF0cGxvdGxpYiB2ZXJzaW9uMy4yLjIsIGh0dHA6Ly9tYXRwbG90bGliLm9yZy+WH4yJAAAgAElEQVR4nO3deXhV1b3G8fdHCBBIGBMIJSiDTGVwIKBWCKCogSIgICIgiLaAGFtsLRZlEhxa8UpRipZr0aAgWKGKFgW1YhAFDRgtiFqGAEFkMIGEIZDAun+ck3OTEEh0JyQh38/znOecs9fae691UHxde+21zTknAAAA/DSVSrsBAAAA5RlhCgAAwAPCFAAAgAeEKQAAAA8IUwAAAB4QpgAAADwgTAFAMTCzmWbmzOyZ0m4LgPOLMAVcYMzsDv9/1O8o7bYUNzNLNrPk0m5HfmbWRdJ9kp6UdLeZXVvKTQJwHlUu7QYAODsz+7Gr6o4qkYbgrMwsVFK8pCedc380s2OSXjCz9s659FJuHoDzgDAFlG0PF7BtvKRakmZLOpSvLEnSDknrJO0t2abB7+eS/ibpf/zfH5aUIamdpI9Lq1EAzh/jcTJA+eK/zHWxpKbOueTSbc35lXOJzznXpHRbAgD/jzlTwAXmbHOmcuYbmVktM5tjZnvMLNPMvjKz35iZneV4g80swcwOm9lxM/uPmU00s6oF1O1gZq/4z3PCzA6Y2UYz+4uZBRex/WZmcWa22d++Pf721ipkv9vM7AMzO+Tfb4uZTSqonWfZ/x3/73bpWcpv9Zc/mW97CzNb4G/nSTP7zv+9xVmOU8vMHjezb/ztTDOzlWbW8yy/xUgz+9j/W2aa2W5//VuL0i8AJY8wBVQsVSS9J+lGSYsl/a+k2vJdMpyTv7KZPSZpiaQ2khb565ikxyStNLMquep2kLReUj/5LjM+JelVSQckjZNUpFAj6S+SnpFUR9I8fztj/e2uUtAOZjbf375LJC2V9FdJqZJmSHrHzIoypSHe/z7iLOUj/e8v5jpvJ0mJkoZL+ky+Cejr/N8T/eW521lbvkt/f5R02N/XpZKulrTKzMbkO+ej/vNFyvdbPiXf79BI0i1F6BOA88E5x4sXr3L0kpQsyUlqcpbyO/zld5xlv48kVc21va6kbf6ymFzbr/Zv2yUpMtf2ypLe9Jc9mGv7//i39SugTXUkVSpC337hP8ZWSXVzba8m6RN/WfJZ+rtMUki+smn+st8W4dzV5JuD9r2kyvnKIiVlS9qQa5tJ2uI//rB89W/1b/86d7/lm1vl/O+Wa3sL+cLVidx/rpJ+kJQiqXoB7Q0v7X8WefHi5XsxMgVUPBOdcydyvjjnckZwpLx3A97pf3/EOfd9rvrZkn4v6bSkXxVw/OP5Nzjn0pxzp4vQtpzzP+pvV87+mZImnmWf38oXdO50zuU/9wz5Asmwwk7sP8erkhrIN3KX23BJQfr/0SvJF/xaS/rEObcw37GWyBdaW0nqIkn+Ubzhko7I92fgctX/r6Sn5Rt5yz8yliXpVAHtPVhYnwCcH4QpoGLJVsF3mK32v1+ea9sV/vd/56/snPtWvhGTprnmMi2R7z/6r/vnDI0ws+Y/sn055/ywgLKPlC9UmFl1SZdKSpM03sym5X5JmizfaE+bIp7/Rf/7yHzbR8oXahYV0NYzfp9823N+01aSqkv6IndQPEd9SVooqYmkr/zzrGILmzsG4PxjaQSgYjnonDtjlEO+S1uSb8kF5ft8tiUW9kq6SL45V4edc5+aWVdJD0kaJOl2STKzbyQ97Jx7pQjtyznnvvwFzrlsM8s/GlNHvsttEZKmFuH45+Sc+9jMvpXU18zqOOfSzOwK+ZY5eD3faFBRfh/J9/v8lPqSbyHQ7fKN2P3R/8o2sxWSfu+c21qUfgEoWYxMARVLuJkFFbA90v9+ONe2w/nK8muYfx/n3CfOuT7yhZxr5LvM1kDSooLuVitAzrEa5C/wTyIPP0v9z51zdq5XEc6dY4F8k+Vz7pbLGaWKz1fvx/4+P+X3POWc+4tz7lL5fpOBkv4pqa98E+uLOqkfQAkiTAEVS2X55vrk193//nmubZ/nKwsws0skRUna4ZzLv3ConHMnnHMfO+emSPqNf3O/IrRvo/+9WwFlXeSbt5T7PEckbZbU1szqFuH4RbFAvvlgI/3LOdwm6aCkf+Wrd9bfx6+H/z2nT99IOibpUv9dfYXVz8M5t985t8w5N1i+S4LN5RsxA1DKCFNAxfN47hENfwiZ5P/6Qq568/3vk8wsIlf9IPmWAKgk6e+5tv/CzEIKOF/OKNOxIrTtRf/7Q7nDkZlVk/T4WfZ5Sr6J2/MLCilmVsd/qa5InHO75QsrV8k3uT1C0iLnXFa+qmvlC0hdzGxQvnMOktRV0rfyzfWSc+6kfHOgwvT/E/5z6jeXL3RmSXrJv62qmV1TQH+C5bsDUyrabwqghDFnCqhY9sp3CWuTmS2XFCzf/KaGkuY65xJyKvrnDz0haYK//muSjkrqJd+IyEeSZuY69gRJ15rZGvkeaXNEUlt//TT51ow6J+fcWjN7RtK9uc6ZJd+oVpoKmG/knJtvZh3lW8tqm5mtlG85h7qSmkqKkS8kji3SL+QTL6mnfOtp5XzPf15nZiMlvStpiZm9Id9SCK0k9ZfvkTIj8t3F+Ef5Qlacfw2qD+S7dDlYvpAV55zb4a8bIukjM9sqaYOknfIt33C9fBPqlzvntvyIPgEoITxOBihnrJDHyZhv5fMXJI1yzr2Ybz/Jd/fbY/L9Bz9cvgnOz0p6xhXwF4KZDZEU598vWL41qRZJ+h//cgI59W6Q75LYlfItKllZvjv+Vvrr7ixi/0zSPf5XM/mWNvinpAclfSEV/DgZM+sjX2DqLN8k7lT5QtUqSS87574uyvn9x6ouX3CrKWmTc679Oeq2km9kr6d8v+dBSe9LmuGc+6aA+rXlW+ZhgHwT+I/Lt+DnTOfcqlz1guWbgN5DvlBaX76Atk2+Ebz5/tEuAKWMMAVUEMZz7QCgRDBnCgAAwAPCFAAAgAeEKQAAAA+YMwUAAOABI1MAAAAeEKYAAAA8IEwBAAB4QJgCAADwgDAFAADgAWEKAADAA8IUAACAB4QpAAAADwhTAAAAHhCmAAAAPCBMAQAAeFCqYcrM5pvZfjPbVMT6g83sKzPbbGaLSrp9AAAAhSnVBx2bWYykI5IWOOfaFVK3haRXJV3rnEszs/rOuf3no50AAABnU6ojU865BEmpubeZWXMze8fMNpjZGjNr7S/6taS/OufS/PsSpAAAQKkri3Om5km61znXUdL9kub6t7eU1NLM1prZOjOLLbUWAgAA+FUu7QbkZmahkn4h6R9mlrO5qv+9sqQWkrpLipKUYGbtnXOHznc7AQAAcpSpMCXfSNkh59xlBZSlSFrvnMuStMPMvpUvXH12PhsIAACQW5m6zOecS5cvKN0iSeZzqb/4dflGpWRm4fJd9tteGu0EAADIUdpLI7wi6RNJrcwsxczukjRM0l1m9oWkzZL6+auvlPSDmX0l6QNJf3DO/VAa7QYAAMhRqksjAAAAlHdl6jIfAABAeUOYAgAA8KDU7uYLDw93TZo0Ka3TAwAAFNmGDRsOOuciCix0zpXKq2PHjq4kDRs2zEVGRrqwsDDXokUL97//+7+BsqNHj7q7777b1atXz9WsWdN17do1UPbEE0+4tm3butDQUNekSRP3xBNPBMp27tzpatSokeclyT355JOBOvv373e33Xabq1mzpqtdu7YbOnRooOyHH35wgwcPdnXr1nX16tVzQ4cOdYcPHw6Ur1271nXq1MmFhoa69u3buzVr1pTUzwMAAH4ESYnuLJnmgr3MN3HiRCUnJys9PV3Lly/XpEmTtGHDBknS6NGjlZqaqi1btig1NVWzZs0K7Oec04IFC5SWlqZ33nlHc+bM0eLFiyVJF110kY4cORJ4/ec//1GlSpU0cODAwP4DBgxQZGSkdu3apf379+v+++8PlE2aNElpaWnasWOHtm3bpn379mnatGmSpNTUVN100036wx/+oEOHDmnChAm66aablJaWdh5+LQAA8FNdsGGqbdu2qlrVt3i6mcnMtG3bNn399ddavny55s2bp4iICAUFBaljx46B/SZMmKArrrhClStXVqtWrdSvXz+tXbu2wHMsWLBAMTExyrlcuWrVKu3evVszZ85UrVq1FBwcrMsvvzxQf8eOHerfv79q1qypWrVq6eabb9bmzZslSR9//LEiIyN1yy23KCgoSMOHD1dERISWLVtWQr8QAAAoDhdsmJKkcePGqXr16mrdurUaNmyo3r1769NPP9XFF1+sqVOnKjw8XO3bt9fSpUsL3N85pzVr1qht27YFli1YsEAjR44MbFu3bp1atWqlkSNHql69eurUqZM+/PDDQPk999yjt956S2lpaUpLS9PSpUvVq1evPMfMf45NmzZ5/RkAAEAJuqDD1Ny5c5WRkaE1a9ZowIABqlq1qlJSUrRp0ybVqlVL3333nebMmaORI0dqy5YtZ+w/bdo0nT59WqNGjTqj7KOPPtK+ffs0aNCgwLaUlBStWrVKPXr00Pfff6/f//736tevnw4ePChJuuKKK3Ty5EnVq1dP9erVU1BQkMaNGydJuvrqq/Xdd9/plVdeUVZWluLj47Vt2zYdO3ashH4dAABQHC7oMCVJQUFB6tKli1JSUvTss88qJCREwcHBmjRpkqpUqaJu3bqpR48eWrVqVZ795syZowULFuhf//pX4HJhbvHx8Ro4cKBCQ0MD20JCQtSkSRPdddddCg4O1pAhQ9S4cePAZcLBgwerZcuWysjIUHp6upo3b67hw4dLkurVq6c33nhDTz31lBo0aKB33nlHPXv2VFRUVAn+OgAAwKsLPkzlyM7O1rZt29ShQ4czyswsz/f58+frT3/6k95///0Cw8zx48f1j3/8I88lPknq0KHDGcfK/T0pKUljxoxRjRo1FBoaqrFjx2rFihWB8m7duumzzz5TamqqXnrpJX399dfq3LnzT+ovAAA4Py7IMLV//34tXrxYR44c0alTp7Ry5Uq98soruu666xQTE6OLLrpIjz/+uLKzs7V27Vp98MEHuvHGGyVJCxcu1IMPPqh3331XzZo1K/D4//znP1WnTh316NEjz/abb75ZaWlpio+P16lTp/Taa68pJSVF11xzjSSpU6dOev7553X8+HEdP35c8+bNyxPuPv/8c2VlZSk9PV3333+/GjduHGgXAAAoo862ZkJJv0pynan9+/e7mJgYV6tWLRcWFubatWvn5s2bFyjftGmTu+qqq1z16tVdmzZt3LJlywJlTZo0cZUrV86zltSYMWPyHP+GG25wkyZNKvDcCQkJrl27dq5GjRquY8eOLiEhIVC2fft216dPH1e3bl1Xp04dd+ONN7pvv/02UD5kyBBXs2ZNV7NmTTd48GC3b9++4vpJAACABzrHOlOl9qDj6Ohol5iYWCrnBgAA+DHMbINzLrqgsgvyMh8AAMD5QpgCAADwgDAFAADgAWEKAADAg8ql3YCS9lD3h0q7CT/Jo6sfLe0mAACAImBkCgAAwAPCFAAAgAeEKQAAAA8IUwAAAB4QpgAAADwgTAEAAHhAmAIAAPCg0DBlZtXM7FMz+8LMNpvZwwXUucPMDphZkv/1q5JpLgAAQNlSlEU7T0i61jl3xMyCJX1kZm8759blq7fEORdX/E0EAAAouwoNU845J+mI/2uw/+VKslEAAADlRZHmTJlZkJklSdov6V3n3PoCqg00sy/N7DUza3yW44w2s0QzSzxw4ICHZgMAAJQNRQpTzrlTzrnLJEVJ6mxm7fJVeVNSE+dcB0nvSoo/y3HmOeeinXPRERERXtoNAABQJvyou/mcc4ckfSApNt/2H5xzJ/xfn5fUsXiaBwAAULYV5W6+CDOr7f8cIul6SV/nq9Mw19e+krYUZyMBAADKqqLczddQUryZBckXvl51zr1lZtMlJTrnlkv6jZn1lZQtKVXSHSXVYAAAgLKkKHfzfSnp8gK2T8n1eaKkicXbNAAAgLKPFdABAAA8IEwBAAB4QJgCAADwgDAFAADgAWEKAADAA8IUAACAB4QpAAAADwhTAAAAHhCmAAAAPCBMAQAAeECYAgAA8IAwBQAA4AFhCgAAwAPCFAAAgAeEKQAAAA8IUwAAAB4QpgAAADwgTAEAAHhAmAIAAPCAMAUAAOABYQoAAMADwhQAAIAHhCkAAAAPCFMAAAAeEKYAAAA8IEwBAAB4QJgCAADwgDAFAADgAWEKAADAA8IUAACAB4QpAAAADwhTAAAAHhCmAAAAPCBMAQAAeFBomDKzamb2qZl9YWabzezhAupUNbMlZrbVzNabWZOSaCwAAEBZU5SRqROSrnXOXSrpMkmxZnZVvjp3SUpzzl0iaZakPxdvMwEAAMqmQsOU8zni/xrsf7l81fpJivd/fk3SdWZmxdZKAACAMqpIc6bMLMjMkiTtl/Suc259viqNJO2WJOdctqTDkuoVcJzRZpZoZokHDhzw1nIAAIAyoEhhyjl3yjl3maQoSZ3NrN1POZlzbp5zLto5Fx0REfFTDgEAAFCm/Ki7+ZxzhyR9ICk2X9EeSY0lycwqS6ol6YfiaCAAAEBZVpS7+SLMrLb/c4ik6yV9na/ackkj/Z8HSfq3cy7/vCoAAIALTuUi1GkoKd7MguQLX686594ys+mSEp1zyyX9XdJLZrZVUqqkISXWYgAAgDKk0DDlnPtS0uUFbJ+S63OmpFuKt2kAAABlHyugAwAAeECYAgAA8IAwBQAA4AFhCgAAwAPCFAAAgAeEKQAAAA8IUwAAAB4QpgAAADwgTAEAAHhAmAIAAPCAMAUAAOABYQoAAMADwhQAAIAHhCkAAAAPCFMAAAAeEKYAAAA8IEwBAAB4QJgCAADwgDAFAADgAWEKAADAA8IUAACAB4QpAAAADwhTAAAAHhCmAAAAPCBMAQAAeECYAgAA8IAwBQAA4AFhCgAAwAPCFAAAgAeEKQAAAA8IUwAAAB4QpgAAADwgTAEAAHhQaJgys8Zm9oGZfWVmm83stwXU6W5mh80syf+aUjLNBQAAKFsqF6FOtqTfO+c2mlmYpA1m9q5z7qt89dY45/oUfxMBAADKrkJHppxze51zG/2fMyRtkdSopBsGAABQHvyoOVNm1kTS5ZLWF1B8tZl9YWZvm1nbYmgbAABAmVeUy3ySJDMLlbRU0njnXHq+4o2SLnbOHTGz3pJel9SigGOMljRaki666KKf3GgAAICyokgjU2YWLF+QWuicW5a/3DmX7pw74v+8QlKwmYUXUG+ecy7aORcdERHhsekAAAClryh385mkv0va4px76ix1Iv31ZGad/cf9oTgbCgAAUBYV5TLfNZJul/QfM0vyb3tQ0kWS5Jx7TtIgSXebWbak45KGOOdcCbQXAACgTCk0TDnnPpJkhdSZI2lOcTUKAACgvGAFdAAAAA8IUwAAAB4QpgAAADwgTAEAAHhAmAIAAPCAMAUAAOABYQoAAMADwhQAAIAHhCkAAAAPCFMAAAAeEKYAAAA8IEwBAAB4QJgCAADwgDAFAADgAWEKAADAA8IUAACAB4QpAAAADwhTAAAAHhCmAAAAPCBMAQAAeECYAgAA8IAwBQAA4AFhCgAAwAPCFAAAgAeEKQAAAA8IUwAAAB4QpgAAADwgTAEAAHhAmAIAAPCAMAUAAOABYQoAAMADwhQAAIAHhCkAAAAPCFMAAAAeFBqmzKyxmX1gZl+Z2WYz+20BdczMnjazrWb2pZldUTLNBQAAKFsqF6FOtqTfO+c2mlmYpA1m9q5z7qtcdXpJauF/XSnpWf87AADABa3QkSnn3F7n3Eb/5wxJWyQ1yletn6QFzmedpNpm1rDYWwsAAFDG/Kg5U2bWRNLlktbnK2okaXeu7yk6M3ABAABccIocpswsVNJSSeOdc+k/5WRmNtrMEs0s8cCBAz/lEAAAAGVKkcKUmQXLF6QWOueWFVBlj6TGub5H+bfl4Zyb55yLds5FR0RE/JT2AgAAlClFuZvPJP1d0hbn3FNnqbZc0gj/XX1XSTrsnNtbjO0EAAAok4pyN981km6X9B8zS/Jve1DSRZLknHtO0gpJvSVtlXRM0qjibyoAAEDZU2iYcs59JMkKqeMk3VNcjQIAACgvWAEdAADAA8IUAACAB4QpAAAADwhTAAAAHhCmAAAAPCBMAQAAeECYAgAA8IAwBQAA4AFhCgAAwAPCFAAAgAeEKQAAAA8IUwAAAB4QpgAAADwgTAEAAHhAmAIAAPCAMAUAAOABYQoAAMADwhQAAIAHhCkAAAAPCFMAAAAeEKYAAAA8IEwBAAB4QJgCAADwgDAFAADgAWEKAADAA8IUAACAB4QpAAAADwhTAAAAHhCmAAAAPCBMAQAAeECYAgAA8IAwBQAA4AFhCgAAwAPCFAAAgAeFhikzm29m+81s01nKu5vZYTNL8r+mFH8zAQAAyqbKRajzoqQ5khaco84a51yfYmkRAABAOVLoyJRzLkFS6nloCwAAQLlTXHOmrjazL8zsbTNre7ZKZjbazBLNLPHAgQPFdGoAAIDSUxxhaqOki51zl0p6RtLrZ6vonJvnnIt2zkVHREQUw6kBAABKl+cw5ZxLd84d8X9eISnYzMI9twwAAKAc8BymzCzSzMz/ubP/mD94PS4AAEB5UOjdfGb2iqTuksLNLEXSVEnBkuSce07SIEl3m1m2pOOShjjnXIm1GAAAoAwpNEw5524rpHyOfEsnAAAAVDisgA4AAOABYQoAAMADwhQAAIAHhCkAAAAPCFMAAAAeEKYAAAA8IEwBAAB4QJgCAADwgDAFAADgAWEKAADAA8IUAACAB4QpAAAADwhTAAAAHhCmAAAAPCBMAQAAeECYAgAA8IAwBQAA4AFhCgAAwAPCFAAAgAeEKQAAAA8IUwAAAB4QpgAAADwgTAEAAHhAmAIAAPCAMAUAAOABYQoAAMADwhQAAIAHhCkAAAAPCFMAAAAeEKYAAAA8IEwBAAB4QJgCAADwgDAFAADgAWEKAADAg0LDlJnNN7P9ZrbpLOVmZk+b2VYz+9LMrij+ZgIAAJRNRRmZelFS7DnKe0lq4X+NlvSs92YBAACUD4WGKedcgqTUc1TpJ2mB81knqbaZNSyuBgIAAJRlxTFnqpGk3bm+p/i3ncHMRptZopklHjhwoBhODQAAULrO6wR059w851y0cy46IiLifJ4aAACgRBRHmNojqXGu71H+bTjPkpOT1bt3b9WpU0eRkZGKi4tTdna2JGn06NFq1aqVKlWqpBdffDHPfvHx8erYsaNq1qypqKgoTZgwIbCfJA0fPlwNGzZUzZo11bJlSz3//POBsnXr1un6669X3bp1FRERoVtuuUV79+4NlB86dEgjR45U/fr1Vb9+fU2bNq1EfwMAAM634ghTyyWN8N/Vd5Wkw865vYXthOI3btw41a9fX3v37lVSUpI+/PBDzZ07V5J06aWXau7cubriijNvtjx27Jj+8pe/6ODBg1q/fr3ef/99Pfnkk4HyiRMnKjk5Wenp6Vq+fLkmTZqkDRs2SJLS0tI0evRoJScna+fOnQoLC9OoUaMC+9533306duyYkpOT9emnn+qll17SCy+8UMK/BAAA50/lwiqY2SuSuksKN7MUSVMlBUuSc+45SSsk9Za0VdIxSaMKPhJK2o4dOxQXF6dq1aopMjJSsbGx2rx5syTpnnvukSRVq1btjP3uvvvuwOdGjRpp2LBh+uCDDwLb2rZtG/hsZjIzbdu2TR07dlSvXr3yHCsuLk7dunULfH/zzTf19ttvq3r16mrSpInuuusuzZ8/P0/gAgCgPCvK3Xy3OecaOueCnXNRzrm/O+ee8wcp+e/iu8c519w51945l1jyzUZBxo8fr8WLF+vYsWPas2eP3n77bcXGnmtVi4IlJCTkCVCSb9SrevXqat26tRo2bKjevXsXeV/nXJ7PmzYVuGQZAADlEiugX0BiYmK0efPmwNyn6Oho9e/f/0cdY/78+UpMTNT999+fZ/vcuXOVkZGhNWvWaMCAAapateoZ+3755ZeaPn26Zs6cGdgWGxurP/3pT8rIyNDWrVs1f/58HTt27Kd1EACAMogwdYE4ffq0YmNjNWDAAB09elQHDx5UWlqaHnjggSIf4/XXX9fEiRP19ttvKzw8/IzyoKAgdenSRSkpKXr22bxrs27dulW9evXS7Nmz1bVr18D2p59+WiEhIWrRooX69eun2267TVFRUT+9owAAlDGEqQtEamqqdu3apbi4OFWtWlX16tXTqFGjtGLFiiLt/8477+jXv/613nzzTbVv3/6cdbOzs7Vt27bA9507d6pnz56aPHmybr/99jx169atq4ULF+r777/X5s2bdfr0aXXu3PnHdxAAgDKKMHWBCA8PV9OmTfXss88qOztbhw4dUnx8vDp06CBJOnnypDIzM+WcU1ZWljIzM3X69GlJ0r///W8NGzZMS5cuPSPo7N+/X4sXL9aRI0d06tQprVy5Uq+88oquu+46SdKePXt07bXXKi4uTmPHjj2jXdu2bdMPP/ygU6dO6e2339a8efM0adKkEv41AAA4fwhTF5Bly5bpnXfeUUREhC655BIFBwdr1qxZkqQbbrhBISEh+vjjjzV69GiFhIQoISFBkjRjxgwdPnxYvXv3VmhoqEJDQwN36ZmZnn32WUVFRalOnTq6//779Ze//EV9+/aVJD3//PPavn27pk2bFtg3NDQ00KYNGzaoffv2CgsL08SJE7Vw4cIzJqgDAFCeWe47rc6n6Ohol5hY8jf+PdT9oRI/R0l4dPWjpd0EAADgZ2YbnHPRBZUxMoVyafHixWrTpo1q1Kih5s2ba82aNZJ8I2WXXHKJQkNDFRsbq++++y7Pfhs3blRMTIxCQ0PVoEEDzZ49O1CWlJSkrl27qlatWoqKitKMGTMCZQsXLswz8la9enWZWWDxUlZ6B4CKizCFcufdd9/VAw88oBdeeEEZGRlKSEhQs2bNtHr1aj344IN64403lJqaqqZNm+q2224L7Hfw4EHFxglTtHQAABwzSURBVMZqzJgx+uGHH7R161bdcMMNgfKhQ4cqJiZGqampgdXjly9fLkkaNmyYjhw5EnjNnTtXzZo1C6woz0rvAFBxEaZQ7kydOlVTpkzRVVddpUqVKqlRo0Zq1KiR3nrrLd1yyy1q27atqlSposmTJyshISFw5+FTTz2lG2+8UcOGDVPVqlUVFhamNm3aBI6bnJysYcOGKSgoSM2bN1eXLl0CK8jnFx8frxEjRsjMJPlWep8wYcIZK70DAC58hCmUK6dOnVJiYqIOHDigSy65RFFRUYqLi9Px48clnbnauqTAiuvr1q1T3bp19Ytf/EL169fXTTfdpF27dgXqjx8/XgsWLFBWVpa++eYbffLJJ+rZs+cZbdi5c6cSEhI0YsSIPNtZ6R0AKqZCn82Hsq8iTbLft2+fsrKy9Nprr2nNmjUKDg5Wv3799Mgjjyg2NlZDhgzR2LFj1aJFC02fPl1mFlhxPSUlRRs3btS7776r9u3ba8KECbrtttu0du1aSVKfPn00YsQIPfnkkzp16pSmTJmiTp06ndGGBQsWqGvXrmratGlgW85K7/Hx8dq3bx8rvQNABcLIFMqVkJAQSdK9996rhg0bKjw8XL/73e+0YsUK9ezZUw8//LAGDhyoJk2aqEmTJgoLCwusuB4SEqKbb75ZnTp1UrVq1TR16lR9/PHHOnz4sFJTUxUbG6spU6YoMzNTu3fv1sqVKzV37twz2rBgwQKNHDkyzzZWegeAioswhXKlTp06ioqKCsxVkpTn8z333KP//ve/2rdvnwYOHKjs7Gy1a9dOktShQ4ez7rd9+3YFBQVpxIgRqly5sqKiojRkyJAzVpBfu3atvvvuOw0aNCjPdlZ6B4CKizCFcmfUqFF65plntH//fqWlpWnWrFnq06ePMjMztWnTJjnntGvXLo0ePVq//e1vVadOncB+//znP5WUlKSsrCzNmDFDXbp0Ua1atdSyZUs557Ro0SKdPn1a33//vZYsWRJYQT5HfHy8Bg4cqLCwsDzbWekdACouwhTKncmTJ6tTp05q2bKl2rRpo8svv1wPPfSQMjMzNXToUIWGhqpz5866+uqr86wVde211+qxxx7TL3/5S9WvX19bt27VokWLJEk1a9bUsmXLNGvWLNWpU0eXXXaZ2rVrlycQZWZm6tVXXz3jEp/ESu8AUJGxAnoZ9WMmZ1eEPgIAUJpYAR0AAKCEEKYAAAA8IEwBAAB4QJgCAADwgBXQUW4w0R4AUBYxMgUAAOABYQoAAMADwhQAAIAHhCkAAAAPCFMAAAAeEKYAAAA8IEwBAAB4QJgCAADwgDAFAADgAWEKAADAA8IUAACAB4QpAAAADwhTAAAAHhQpTJlZrJl9Y2ZbzeyPBZTfYWYHzCzJ//pV8TcVAACg7KlcWAUzC5L0V0nXS0qR9JmZLXfOfZWv6hLnXFwJtBEAAKDMKsrIVGdJW51z251zJyUtltSvZJsFAABQPhQlTDWStDvX9xT/tvwGmtmXZvaamTUu6EBmNtrMEs0s8cCBAz+huQAAAGVLcU1Af1NSE+dcB0nvSoovqJJzbp5zLto5Fx0REVFMpwYAACg9RQlTeyTlHmmK8m8LcM794Jw74f/6vKSOxdM8AACAsq0oYeozSS3MrKmZVZE0RNLy3BXMrGGur30lbSm+JgIAAJRdhd7N55zLNrM4SSslBUma75zbbGbTJSU655ZL+o2Z9ZWULSlV0h0l2GYAAIAyo9AwJUnOuRWSVuTbNiXX54mSJhZv0wAAAMo+VkAHAADwgDAFAADgAWEKAADAA8IUAACAB4QpAAAADwhTAAAAHhCmAAAAPCBMAWXQnDlzFB0drapVq+qOO+7IU/bqq6+qTZs2CgsL089//nO9/vrrBR7juuuuk5kpOzs7z/bZs2eradOmqlGjhtq0aaNvv/02ULZo0SJdfPHFqlGjhvr376/U1NQzjvvf//5X1apV0/Dhw713FAAuAIQpoAz62c9+pkmTJunOO+/Ms33Pnj0aPny4nnrqKaWnp2vmzJkaOnSo9u/fn6fewoULlZWVdcZxn3/+ef3973/Xv/71Lx05ckRvvfWWwsPDJUmbN2/WmDFj9NJLL2nfvn2qXr26xo0bd8Yx7rnnHnXq1KkYewsA5RthCiiDBgwYoP79+6tevXp5tqekpKh27drq1auXzEy//OUvVaNGDW3bti1Q5/Dhw3r44Yf1xBNP5Nn39OnTevjhhzVr1iz9/Oc/l5mpefPmqlu3riRfALvpppsUExOj0NBQzZgxQ8uWLVNGRkbgGIsXL1bt2rV13XXXFUs/zzUCd+zYMY0bN07h4eGqVauWYmJiAmWzZs1Ss2bNVLNmTf3sZz/Tfffdl2cELikpSV27dlWtWrUUFRWlGTNm5Dn2+++/r9atW6t69erq0aOHdu7cGShLTU3Vrbfeqnr16ik8PFzDhg1Tenp6sfQXwIWJMAWUI9HR0WrTpo2WL1+uU6dO6fXXX1fVqlXVoUOHQJ0HH3xQd999tyIjI/Psm5KSopSUFG3atEmNGzdW06ZNNXXqVJ0+fVqSb2Tq0ksvDdRv3ry5qlSpErgMmJ6erilTpuipp54qtv6cbQROkkaPHq3U1FRt2bJFqampmjVrVqCsb9++2rhxo9LT07Vp0yZ98cUXevrppwPlQ4cOVUxMjFJTU/Xhhx9q7ty5Wr7c93z2gwcPasCAAZoxY4ZSU1MVHR2tW2+9NbDvpEmTlJaWph07dmjbtm3at2+fpk2bVmx9BnDhKdKz+QCUDUFBQRoxYoSGDh2qzMxMValSRf/4xz9Uo0YNSVJiYqLWrl2r2bNnKyUlJc++Od9XrVql//znPzp06JBuuOEGRUVF6de//rWOHDmiWrVq5dmnVq1agZGpyZMn66677lJUVFSx9WfAgAGBdudu79dff63ly5crJSVFNWvWlCR17NgxUN68efPAZ+ecKlWqpK1btwa2JScna9iwYQoKClLz5s3VpUsXbd68WX379tWyZcvUtm1b3XLLLZKkadOmKTw8XF9//bVat26tHTt2qH///oHz3nzzzYEgBgAFYWQKKEfee+89TZgwQatXr9bJkyf14Ycf6le/+pWSkpJ0+vRpjRs3TrNnz1blymf+f1JISIgkacKECapdu7aaNGmiMWPGaMUK3zPMQ0NDz7iclZ6errCwMCUlJem9997TfffdV/KdlPTpp5/q4osv1tSpUxUeHq727dtr6dKleeosWrRINWvWVHh4uL744guNGTMmUDZ+/HgtWLBAWVlZ+uabb/TJJ5+oZ8+eks4cgatRo4aaN2+uzZs3S/LNCXvrrbeUlpamtLQ0LV26VL169ToPvQZQXhGmgHIkKSlJMTExio6OVqVKldSpUyddeeWVeu+995Senq7ExETdeuutioyMDEwSj4qK0po1a9SqVStVqVJFZhY4Xu7Pbdu21RdffBH4vn37dp04cUItW7bU6tWrlZycrIsuukiRkZF68skntXTpUl1xxRUl0s+cy5G1atXSd999pzlz5mjkyJHasmVLoM7QoUOVnp6ub7/9VmPHjlWDBg0CZX369NFrr72mkJAQtW7dWnfddVfg9yhsBO6KK67QyZMnVa9ePdWrV09BQUEFTsQHgByEKaAMys7OVmZmpk6dOqVTp04pMzNT2dnZ6tSpk9asWaOkpCRJ0ueff641a9aoQ4cOgeCRlJSkpKSkwIjThg0bdOWVV6p69eq69dZb9cQTTygjI0MpKSmaN2+e+vTpI0kaNmyY3nzzTa1Zs0ZHjx7VlClTNGDAAIWFhWn06NHatm1b4Nhjx47VL3/5S61cubJE+h8SEqLg4GBNmjRJVapUUbdu3dSjRw+tWrXqjLotWrRQ27ZtA4EnNTVVsbGxmjJlijIzM7V7926tXLlSc+fOlXTuEThJGjx4sFq2bKmMjAylp6erefPmLAMB4JwIU0AZ9MgjjygkJER/+tOf9PLLLyskJESPPPKIunXrpmnTpmnQoEEKCwvTwIED9eCDD+qGG26QmSkyMjLwioiIkCQ1aNBAVapUkeS7ey40NFQ/+9nPdPXVV2vo0KGByd9t27bVc889p2HDhql+/frKyMgIBJDq1avnOXZoaKiqVasWOEdxyz2hPkfuUbT8srOzA3c0bt++PTC3rHLlyoqKitKQIUMC4TL/CNzRo0e1bds2tW3bVpJv9G/MmDGqUaOGQkNDNXbs2MC+AFAQwhRQBk2bNk3OuTyvnDvK4uLitHXrVmVkZGj79u36/e9/X+AxmjRpIudcnvlTNWvW1OLFi5WRkaHdu3drypQpeULK0KFDtWvXLh09elRvvPFGYNmEgtr38ssve+7n2UbgYmJidNFFF+nxxx9Xdna21q5dqw8++EA33nijJN96WTlra3311Vd6/PHHA8s1tGzZUs45LVq0SKdPn9b333+vJUuWBALazTffrE2bNmnp0qXKzMzU9OnT1aFDB7Vu3VqS1KlTJz3//PM6fvy4jh8/rnnz5hUY7gAgB2EKQKk52whccHCw3njjDa1YsUK1atXSr3/9ay1YsCAQeNauXav27durRo0a6t27t3r37q3HHntMki8wLlu2TLNmzVKdOnV02WWXqV27dpo0aZIkKSIiQkuXLtVDDz2kOnXqaP369Vq8eHGgTfPnz1dycrKioqLUqFEjbd++XfHx8ef/xwFQbphzrlROHB0d7RITE0v8PA91f6jEz1ESHl39aJHrVoQ+ShWnn7jwde/eXevWrQuMGjZq1EjffPNNnjp33nmnXnjhBf33v//VJZdcEti+ePFiPfzww9q1a5ciIyP14osvqmvXrkpOTg48JijHAw88oMmTJ0vyrZ4/btw4rVmzRtWrV9ekSZM0duzY89Bb4MJgZhucc9EFlbHOFACUgjlz5uhXv/pVgWUfffRRnlXtc7z77rt64IEHtGTJEnXu3Fl79+49o86hQ4cKXBpj+PDhuvTSS/Xaa6/pq6++Uo8ePdSqVSv16NHDe2eACo7LfABQhmRnZ+vee+/VM888c0bZ1KlTNWXKFF111VWqVKmSGjVqpEaNGhV6zCNHjmj16tV66KGHFBwcrEsvvVSDBg3S/PnzS6ILQIXDyBRQhpTXS5kSlzN/rIkTJ+qPf/yjWrVqpUcffVTdu3eX5HvuYExMzBmT3k+dOqXExET17dtXl1xyiTIzM9W/f3/NnDkzsCCrJF188cUyM11//fWaOXOmwsPDlTOdI/e0DuecNm3aVCJ9O3HihMaNG6f33ntPqampat68uR5//HH16tVL69at0+TJk7VhwwYFBQWpe/fuevrpp9WwYUNJ0gcffKDp06dr48aNqlOnjpKTk/Mcu0ePHtq0aZNOnDihpk2bavr06erXr58kae/evRozZowSExO1d+9e7dixQ02aNCmRPgK5MTIFAOfZn//8Z23fvl179uzR6NGjddNNN2nbtm3avXu3/va3v2n69Oln7LNv3z5lZWXptddeC6w19vnnn+uRRx6RJIWHh+uzzz7Tzp07tWHDBmVkZGjYsGGSpLCwMF1zzTWaMWOGMjMztXHjRi1dulTHjh0rkf5lZ2ercePG+vDDD3X48GE98sgjGjx4sJKTk5WWlqbRo0crOTlZO3fuVFhYmEaNGhXYt0aNGrrzzjs1c+bMAo89e/Zs7d27V+np6Zo3b56GDx8euNxZqVIlxcbGnrFafmlKTk5W7969VadOHUVGRiouLi7wUO4333xT7dq1U2hoqH7xi1/oq6++Cuw3duxYhYaGBl5Vq1YNrIWGsoeRKQDnXXkdgSuu0bcrr7wy8HnkyJF65ZVXtGLFCq1evVpTpkw5Y4V26f8fB3TvvfcGRnF+97vf6ZFHHtGjjz6q0NBQRUf75sY2aNBAc+bMUcOGDZWRkaGwsDAtXLhQ99xzjxo3bqxmzZpp+PDhgUfoFLcaNWrkeTh0nz591LRpU23YsEEDBw7MUzcuLk7dunULfO/cubM6d+6s9957r8Bj5x6xMzNlZWVp9+7datiwoRo0aKBx48YFwkpZMG7cONWvX1979+7VoUOHdP3112vu3Lnq1auXhg0bphUrVuiqq67SzJkz1bdvX3399deqXLmynnvuOT333HOB49xxxx2qVKnsjn8UdGPElVdeqaFDhyoxMVE7d+7UBx98EBiBlQofhSxPyu6fDABUEGYm55zef/99/eEPfwgsjipJV199tRYtWqQ6deooKirqrI8DKuiYknT69GlJvst/b731lg4cOKD169fr4MGD6ty5cwn26v/t27dP3377bWBh1NwSEhIK3H4uffr0UbVq1XTllVeqe/fugRBZFu3YsUODBw9WtWrVFBkZqdjYWG3evFkrV65U165d1aVLF1WuXFkPPPCA9uzZow8//PCMYxw9elRLly7VyJEjS6EHhcu5MeKFF15QRkaGEhIS1KxZM0lSly5d9PLLLwf+ec6tsFHI8oSRKQA4jw4dOqT169erW7duqly5spYsWaKEhATNnj1bQ4YMCYQfSWrYsKHefPPNwIOZR40apWeeeUaxsbEKDg7WrFmzAo8DWr9+vWrXrq0WLVooLS1Nv/nNb9S9e/fAKNeWLVsUFRWlqlWr6tVXX9WqVavyPOuwpGRlZWnYsGEaOXJkYJ2wHF9++aWmT5+uN95440cd86233lJWVpbee+89bdmypUyP2IwfP16LFy9W9+7dlZaWprffflszZszQnj17zpjDljOPLWcB2hxLly5VRESEYmJiznfziyT3jRGS8twUMX78eElSUFDQGfsVNgpZnpTdfwIB4AKUlZWlSZMmKSIiQuHh4XrmmWf0+uuvq2XLlqpfv36ex/ZIvrlQOZf4Jk+erE6dOqlly5Zq06aNLr/8cj30kO+S6fbt2xUbG6uwsDC1a9dOVatW1SuvvBI478qVK9WsWTPVqVNHzz33nN55550SexxQjtOnT+v2229XlSpVNGfOnDxlW7duVa9evTR79mx17dr1Rx87ODhYvXr10qpVq7R8+fLianKxi4mJ0ebNm1WzZk1FRUUpOjpa/fv3V8+ePfXhhx9q9erVOnnypB577DGdPHmywHls8fHxGjFixDlHIktLzo0RBw4c0CWXXKKoqCjFxcXp+PHjpd2084owBQDnUUREhD777DNlZGTo0KFDWrduna6//voC6zrn8izYGRwcrLlz5+rQoUP6/vvv9fTTT6tatWqSpNtuu007duzQ0aNHtXfvXi1YsCDPpZXx48frwIEDOnr0qD766KMSvzTmnNNdd92lffv2aenSpQoODg6U7dy5Uz179tTkyZN1++23ezpP7ucyljWnT59WbGysBgwYoKNHj+rgwYNKS0vTAw88oNatWys+Pl5xcXFq2LChDh48qJ///OeKiorKc4xdu3Zp9erVGjFiRCn14twKuzGioiBMAQCK3d13360tW7bozTffzLN0w549e3TttdcqLi6uwBXYT58+rczMTGVlZck5p8zMTJ08eVKS9PXXX+vtt9/W8ePHlZWVpZdfflkJCQl5JrBnZmbqxIkTknxLNGRmZpZwT88uNTVVu3btUlxcnKpWrap69epp1KhRgQdnDxo0SJs2bdIPP/yghx9+WMnJyerUqVOeY7z00ku65pprAnOQypr8N0aEh4frd7/7XYV7ODhhCgBQrHbu3Km//e1vSkpKUmRkZOD2/oULF+r555/X9u3bNW3atDy3/udISEhQSEiIevfurV27dikkJEQ33HCDJAUe+F2/fn1FRERo9uzZWrJkia644orA/iEhIYHjtW7dOk+QO9/Cw8PVtGlTPfvss8rOztahQ4cUHx8fuCNxw4YNOnXqlA4cOKDRo0erb9++Z8wrW7Bgge64445SaH3R/NgbIy5UTEAHABSriy++WOd67uvUqVPPWta9e/ez7tumTRutX7/+nOcurefNns2yZcs0fvx4/fnPf1ZQUJCuvfZazZo1S5L029/+Vl988YWCg4N1yy236Kmnnsqz7yeffKKUlBTdcsstpdH0IjvXjREnTpwI/JmcPHlSmZmZqlq1qsxMp0+f1smTJ/OMQlaqVElVqlQpze78JIQpAABKyGWXXabVq1cXWPbRRx+dc9+rr75aR48eLYFWFa/Jkyfr4MGDatmypapVq6bBgwcHboxo1aqVdu7cKUm68cYbJSmwMn1CQkKeZ0OGhISoW7duZ/29yjLCFACUkIq+OCkqhpwbI+bOnXtG2bkW4jzXKGR5w5wpAAAAD4oUpsws1sy+MbOtZvbHAsqrmtkSf/l6M2tS3A0FAAAoiwq9zGdmQZL+Kul6SSmSPjOz5c65r3JVu0tSmnPuEjMbIunPkm4tiQYDAMqO8nopU+JyJopPUUamOkva6pzb7pw7KWmxpH756vSTFO///Jqk66wi3hsJAAAqHCts8peZDZIU65z7lf/77ZKudM7F5aqzyV8nxf99m7/OwXzHGi1ptP9rK0nfFFdHSkm4pIOF1irfKkIfJfp5IakIfZQqRj8rQh8l+lleXOycK/AZTOf1bj7n3DxJ887nOUuSmSU658ru48qLQUXoo0Q/LyQVoY9SxehnReijRD8vBEW5zLdHUuNc36P82wqsY2aVJdWS9ENxNBAAAKAsK0qY+kxSCzNramZVJA2RlP8R3csljfR/HiTp3+5CWTwCAADgHAq9zOecyzazOEkrJQVJmu+c22xm0yUlOueWS/q7pJfMbKukVPkCV0VwwVyyPIeK0EeJfl5IKkIfpYrRz4rQR4l+lnuFTkAHAADA2bECOgAAgAeEKQAAAA8IUz+SmTkz+59c3+83s2ml2KQSZWZHSrsNJcXMTplZkpltMrM3zax2abepJOTqZ87rjEdCXQjMrIGZLTKz7Wa2wcw+MbObS7tdxc3MIs1ssZlt8/dzhZm1LO12FbcL+e8e6cz+mdkdZjantNoDbwhTP94JSQPMLLy0GwLPjjvnLnPOtZPvxol7SrtBJSSnnzmvP5V2g4qb/4kLr0tKcM41c851lO9GmKjSbVnx8vfzn5JWO+ea+/s5UVKD0m0ZULERpn68bPnuSLivtBuCYvWJpEal3Qj8ZNdKOumcey5ng3Nup3PumVJsU0noISkrXz+/cM6tKcU2ARXeeV0B/QLyV0lfmtkTpd0QeOd/mPd18i3xcSEKMbOkXN8fd84tKbXWlIy2kjaWdiPOg3aSNpR2I1As8v97WVdnruGIcoIw9RM459LNbIGk30g6XtrtwU+W85dZI0lbJL1byu0pKcedc5eVdiPOJzP7q6Qu8o1WdSrt9gAFyPPvpZndIemCfNRKRcBlvp/uL5LuklSjtBuCnyznL7OLJZku3DlTFcFmSVfkfHHO3SPfaGOBDyUtxzZL6ljajQCQF2HqJ3LOpUp6Vb5AhXLMOXdMvlHG3/ufLYny59+SqpnZ3bm2VS+txpSgf0uqamajczaYWQcz61qKbQIqPMKUN/8jibv6LgDOuc8lfSnpttJuSwkIybc0wgV3N5//WaD9JXUzsx1m9qmkeEkPlG7Lipe/nzdL6ulfGmGzpMclfV+6LSsR1c0sJdfrd6XdIOBseJwMAACAB4xMAQAAeECYAgAA8IAwBQAA4AFhCgAAwAPCFAAAgAeEKQAAAA8IUwAAAB78H7oVlS7yHtpvAAAAAElFTkSuQmCC\n",
        "metadata": {
         "needs_background": "light",
         "tags": []
        },
        "output_type": "display_data",
        "text/plain": "<Figure size 720x432 with 1 Axes>"
       }
      ]
     }
    },
    "81091c16db0d495ea8e3ddf29d6736ee": {
     "model_module": "@jupyter-widgets/base",
     "model_name": "LayoutModel",
     "state": {
      "_model_module": "@jupyter-widgets/base",
      "_model_module_version": "1.2.0",
      "_model_name": "LayoutModel",
      "_view_count": null,
      "_view_module": "@jupyter-widgets/base",
      "_view_module_version": "1.2.0",
      "_view_name": "LayoutView",
      "align_content": null,
      "align_items": null,
      "align_self": null,
      "border": null,
      "bottom": null,
      "display": null,
      "flex": null,
      "flex_flow": null,
      "grid_area": null,
      "grid_auto_columns": null,
      "grid_auto_flow": null,
      "grid_auto_rows": null,
      "grid_column": null,
      "grid_gap": null,
      "grid_row": null,
      "grid_template_areas": null,
      "grid_template_columns": null,
      "grid_template_rows": null,
      "height": null,
      "justify_content": null,
      "justify_items": null,
      "left": null,
      "margin": null,
      "max_height": null,
      "max_width": null,
      "min_height": null,
      "min_width": null,
      "object_fit": null,
      "object_position": null,
      "order": null,
      "overflow": null,
      "overflow_x": null,
      "overflow_y": null,
      "padding": null,
      "right": null,
      "top": null,
      "visibility": null,
      "width": null
     }
    },
    "a90078284a534caabbae577d3fc57184": {
     "model_module": "@jupyter-widgets/controls",
     "model_name": "SliderStyleModel",
     "state": {
      "_model_module": "@jupyter-widgets/controls",
      "_model_module_version": "1.5.0",
      "_model_name": "SliderStyleModel",
      "_view_count": null,
      "_view_module": "@jupyter-widgets/base",
      "_view_module_version": "1.2.0",
      "_view_name": "StyleView",
      "description_width": "",
      "handle_color": null
     }
    },
    "afc4764792b9497996d756d77a485118": {
     "model_module": "@jupyter-widgets/controls",
     "model_name": "IntSliderModel",
     "state": {
      "_dom_classes": [],
      "_model_module": "@jupyter-widgets/controls",
      "_model_module_version": "1.5.0",
      "_model_name": "IntSliderModel",
      "_view_count": null,
      "_view_module": "@jupyter-widgets/controls",
      "_view_module_version": "1.5.0",
      "_view_name": "IntSliderView",
      "continuous_update": true,
      "description": "mes",
      "description_tooltip": null,
      "disabled": false,
      "layout": "IPY_MODEL_b616aaabf26f4d8da8afeb161ac3c6e0",
      "max": 12,
      "min": 0,
      "orientation": "horizontal",
      "readout": true,
      "readout_format": "d",
      "step": 1,
      "style": "IPY_MODEL_b2d54dbb2b78458f81500920913dfb72",
      "value": 4
     }
    },
    "b2d54dbb2b78458f81500920913dfb72": {
     "model_module": "@jupyter-widgets/controls",
     "model_name": "SliderStyleModel",
     "state": {
      "_model_module": "@jupyter-widgets/controls",
      "_model_module_version": "1.5.0",
      "_model_name": "SliderStyleModel",
      "_view_count": null,
      "_view_module": "@jupyter-widgets/base",
      "_view_module_version": "1.2.0",
      "_view_name": "StyleView",
      "description_width": "",
      "handle_color": null
     }
    },
    "b57c0b079eea49e9b85615baf860a077": {
     "model_module": "@jupyter-widgets/controls",
     "model_name": "IntSliderModel",
     "state": {
      "_dom_classes": [],
      "_model_module": "@jupyter-widgets/controls",
      "_model_module_version": "1.5.0",
      "_model_name": "IntSliderModel",
      "_view_count": null,
      "_view_module": "@jupyter-widgets/controls",
      "_view_module_version": "1.5.0",
      "_view_name": "IntSliderView",
      "continuous_update": true,
      "description": "ano",
      "description_tooltip": null,
      "disabled": false,
      "layout": "IPY_MODEL_4e168968bb9b44fe999bac3a86e15285",
      "max": 2019,
      "min": 2014,
      "orientation": "horizontal",
      "readout": true,
      "readout_format": "d",
      "step": 1,
      "style": "IPY_MODEL_a90078284a534caabbae577d3fc57184",
      "value": 2014
     }
    },
    "b616aaabf26f4d8da8afeb161ac3c6e0": {
     "model_module": "@jupyter-widgets/base",
     "model_name": "LayoutModel",
     "state": {
      "_model_module": "@jupyter-widgets/base",
      "_model_module_version": "1.2.0",
      "_model_name": "LayoutModel",
      "_view_count": null,
      "_view_module": "@jupyter-widgets/base",
      "_view_module_version": "1.2.0",
      "_view_name": "LayoutView",
      "align_content": null,
      "align_items": null,
      "align_self": null,
      "border": null,
      "bottom": null,
      "display": null,
      "flex": null,
      "flex_flow": null,
      "grid_area": null,
      "grid_auto_columns": null,
      "grid_auto_flow": null,
      "grid_auto_rows": null,
      "grid_column": null,
      "grid_gap": null,
      "grid_row": null,
      "grid_template_areas": null,
      "grid_template_columns": null,
      "grid_template_rows": null,
      "height": null,
      "justify_content": null,
      "justify_items": null,
      "left": null,
      "margin": null,
      "max_height": null,
      "max_width": null,
      "min_height": null,
      "min_width": null,
      "object_fit": null,
      "object_position": null,
      "order": null,
      "overflow": null,
      "overflow_x": null,
      "overflow_y": null,
      "padding": null,
      "right": null,
      "top": null,
      "visibility": null,
      "width": null
     }
    },
    "bd7e6b581b4e4a0a96747df63fc34424": {
     "model_module": "@jupyter-widgets/controls",
     "model_name": "SliderStyleModel",
     "state": {
      "_model_module": "@jupyter-widgets/controls",
      "_model_module_version": "1.5.0",
      "_model_name": "SliderStyleModel",
      "_view_count": null,
      "_view_module": "@jupyter-widgets/base",
      "_view_module_version": "1.2.0",
      "_view_name": "StyleView",
      "description_width": "",
      "handle_color": null
     }
    },
    "be86cfc8f8ff4f4aa27e6ae5a4b83c03": {
     "model_module": "@jupyter-widgets/controls",
     "model_name": "IntSliderModel",
     "state": {
      "_dom_classes": [],
      "_model_module": "@jupyter-widgets/controls",
      "_model_module_version": "1.5.0",
      "_model_name": "IntSliderModel",
      "_view_count": null,
      "_view_module": "@jupyter-widgets/controls",
      "_view_module_version": "1.5.0",
      "_view_name": "IntSliderView",
      "continuous_update": true,
      "description": "ano",
      "description_tooltip": null,
      "disabled": false,
      "layout": "IPY_MODEL_5a797c24daa84708b8e4b0ba0c6d97f9",
      "max": 2019,
      "min": 2014,
      "orientation": "horizontal",
      "readout": true,
      "readout_format": "d",
      "step": 1,
      "style": "IPY_MODEL_bd7e6b581b4e4a0a96747df63fc34424",
      "value": 2019
     }
    },
    "c7adb5fab53f41c58edfa47505b9a992": {
     "model_module": "@jupyter-widgets/base",
     "model_name": "LayoutModel",
     "state": {
      "_model_module": "@jupyter-widgets/base",
      "_model_module_version": "1.2.0",
      "_model_name": "LayoutModel",
      "_view_count": null,
      "_view_module": "@jupyter-widgets/base",
      "_view_module_version": "1.2.0",
      "_view_name": "LayoutView",
      "align_content": null,
      "align_items": null,
      "align_self": null,
      "border": null,
      "bottom": null,
      "display": null,
      "flex": null,
      "flex_flow": null,
      "grid_area": null,
      "grid_auto_columns": null,
      "grid_auto_flow": null,
      "grid_auto_rows": null,
      "grid_column": null,
      "grid_gap": null,
      "grid_row": null,
      "grid_template_areas": null,
      "grid_template_columns": null,
      "grid_template_rows": null,
      "height": null,
      "justify_content": null,
      "justify_items": null,
      "left": null,
      "margin": null,
      "max_height": null,
      "max_width": null,
      "min_height": null,
      "min_width": null,
      "object_fit": null,
      "object_position": null,
      "order": null,
      "overflow": null,
      "overflow_x": null,
      "overflow_y": null,
      "padding": null,
      "right": null,
      "top": null,
      "visibility": null,
      "width": null
     }
    },
    "d0daa8a94d294e879774b9495d84c098": {
     "model_module": "@jupyter-widgets/controls",
     "model_name": "SliderStyleModel",
     "state": {
      "_model_module": "@jupyter-widgets/controls",
      "_model_module_version": "1.5.0",
      "_model_name": "SliderStyleModel",
      "_view_count": null,
      "_view_module": "@jupyter-widgets/base",
      "_view_module_version": "1.2.0",
      "_view_name": "StyleView",
      "description_width": "",
      "handle_color": null
     }
    },
    "d516354e0faf446c8c1f5844bcad7a68": {
     "model_module": "@jupyter-widgets/base",
     "model_name": "LayoutModel",
     "state": {
      "_model_module": "@jupyter-widgets/base",
      "_model_module_version": "1.2.0",
      "_model_name": "LayoutModel",
      "_view_count": null,
      "_view_module": "@jupyter-widgets/base",
      "_view_module_version": "1.2.0",
      "_view_name": "LayoutView",
      "align_content": null,
      "align_items": null,
      "align_self": null,
      "border": null,
      "bottom": null,
      "display": null,
      "flex": null,
      "flex_flow": null,
      "grid_area": null,
      "grid_auto_columns": null,
      "grid_auto_flow": null,
      "grid_auto_rows": null,
      "grid_column": null,
      "grid_gap": null,
      "grid_row": null,
      "grid_template_areas": null,
      "grid_template_columns": null,
      "grid_template_rows": null,
      "height": null,
      "justify_content": null,
      "justify_items": null,
      "left": null,
      "margin": null,
      "max_height": null,
      "max_width": null,
      "min_height": null,
      "min_width": null,
      "object_fit": null,
      "object_position": null,
      "order": null,
      "overflow": null,
      "overflow_x": null,
      "overflow_y": null,
      "padding": null,
      "right": null,
      "top": null,
      "visibility": null,
      "width": null
     }
    },
    "eb64904c87104dcf85892835a0e9fdd1": {
     "model_module": "@jupyter-widgets/output",
     "model_name": "OutputModel",
     "state": {
      "_dom_classes": [],
      "_model_module": "@jupyter-widgets/output",
      "_model_module_version": "1.0.0",
      "_model_name": "OutputModel",
      "_view_count": null,
      "_view_module": "@jupyter-widgets/output",
      "_view_module_version": "1.0.0",
      "_view_name": "OutputView",
      "layout": "IPY_MODEL_350b74c45ff84121bc5c3944984be0fc",
      "msg_id": "",
      "outputs": [
       {
        "metadata": {
         "tags": []
        },
        "output_type": "stream",
        "stream": "stdout",
        "text": "Média de voos realizados : 80432\nMédia de voos cancelados : 1483\n"
       },
       {
        "image/png": "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\n",
        "metadata": {
         "needs_background": "light",
         "tags": []
        },
        "output_type": "display_data",
        "text/plain": "<Figure size 1008x504 with 1 Axes>"
       }
      ]
     }
    },
    "f2df9db1983c4401912e83b4e2b1f4d7": {
     "model_module": "@jupyter-widgets/output",
     "model_name": "OutputModel",
     "state": {
      "_dom_classes": [],
      "_model_module": "@jupyter-widgets/output",
      "_model_module_version": "1.0.0",
      "_model_name": "OutputModel",
      "_view_count": null,
      "_view_module": "@jupyter-widgets/output",
      "_view_module_version": "1.0.0",
      "_view_name": "OutputView",
      "layout": "IPY_MODEL_81091c16db0d495ea8e3ddf29d6736ee",
      "msg_id": "",
      "outputs": [
       {
        "image/png": "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\n",
        "metadata": {
         "tags": []
        },
        "output_type": "display_data",
        "text/plain": "<Figure size 576x360 with 2 Axes>"
       }
      ]
     }
    },
    "f68dc36701d84f8b89b3b75d01f1ab9b": {
     "model_module": "@jupyter-widgets/base",
     "model_name": "LayoutModel",
     "state": {
      "_model_module": "@jupyter-widgets/base",
      "_model_module_version": "1.2.0",
      "_model_name": "LayoutModel",
      "_view_count": null,
      "_view_module": "@jupyter-widgets/base",
      "_view_module_version": "1.2.0",
      "_view_name": "LayoutView",
      "align_content": null,
      "align_items": null,
      "align_self": null,
      "border": null,
      "bottom": null,
      "display": null,
      "flex": null,
      "flex_flow": null,
      "grid_area": null,
      "grid_auto_columns": null,
      "grid_auto_flow": null,
      "grid_auto_rows": null,
      "grid_column": null,
      "grid_gap": null,
      "grid_row": null,
      "grid_template_areas": null,
      "grid_template_columns": null,
      "grid_template_rows": null,
      "height": null,
      "justify_content": null,
      "justify_items": null,
      "left": null,
      "margin": null,
      "max_height": null,
      "max_width": null,
      "min_height": null,
      "min_width": null,
      "object_fit": null,
      "object_position": null,
      "order": null,
      "overflow": null,
      "overflow_x": null,
      "overflow_y": null,
      "padding": null,
      "right": null,
      "top": null,
      "visibility": null,
      "width": null
     }
    }
   }
  }
 },
 "nbformat": 4,
 "nbformat_minor": 1
}
