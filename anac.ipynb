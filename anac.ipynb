{
 "cells": [
  {
   "cell_type": "code",
   "execution_count": 47,
   "metadata": {
    "scrolled": true
   },
   "outputs": [],
   "source": [
    "import pandas as pd\n",
    "from settings import *\n",
    "from scrape import *\n",
    "import matplotlib.pyplot as plt\n",
    "import matplotlib\n",
    "import numpy as np\n",
    "from ipywidgets import interact\n",
    "import ipywidgets as widgets\n",
    "%matplotlib inline"
   ]
  },
  {
   "cell_type": "code",
   "execution_count": 2,
   "metadata": {},
   "outputs": [],
   "source": [
    "#scrapePage(anacUrl)"
   ]
  },
  {
   "cell_type": "code",
   "execution_count": 3,
   "metadata": {
    "jupyter": {
     "source_hidden": true
    },
    "scrolled": true
   },
   "outputs": [],
   "source": [
    "situacaoVoos = []\n",
    "fileCsvFinal = pd.DataFrame()\n",
    "for ano in range(2015, 2020):\n",
    "    print(f\"Lendo os arquivos do ano {ano}\")\n",
    "    for i in range(1, 13):\n",
    "            sep = [';', ',','\\t']\n",
    "            sepIndex = 0\n",
    "            while True:\n",
    "                try:\n",
    "                    fileCsv = pd.read_csv(\n",
    "                        f'data/{ano}-{i:02}.csv', encoding='ISO-8859-1', sep=sep[sepIndex], low_memory=False)\n",
    "                    if ('internet' in fileCsv.columns[0]):\n",
    "                        fileCsv.columns = fileCsv.iloc[0]\n",
    "                        fileCsv = fileCsv[1:]\n",
    "                    if len(fileCsv.columns) <= 1:\n",
    "                        raise ValueError('sepIndex')\n",
    "                    else:\n",
    "                        try:\n",
    "                            fileCsv = fileCsv.drop(columns='Data Prevista')\n",
    "                        except:\n",
    "                            pass\n",
    "                        fileCsv.columns = ['ICAO Empresa Aérea', 'Número Voo', 'Código DI', 'Código Tipo Linha',\n",
    "                                        'ICAO Aeródromo Origem', 'ICAO Aeródromo Destino', 'Partida Prevista',\n",
    "                                        'Partida Real', 'Chegada Prevista', 'Chegada Real', 'Situação Voo',\n",
    "                                        'Código Justificativa']\n",
    "                    \n",
    "                    fileCsv = fileCsv.assign(Ano = ano)\n",
    "                    fileCsv = fileCsv.assign(Mes = i)\n",
    "                    \n",
    "                    fileCsvFinal = pd.concat([fileCsvFinal, fileCsv])\n",
    "                    print(len(fileCsvFinal))\n",
    "                    break\n",
    "                except Exception as e:\n",
    "                    if e.args[0] == 'sepIndex':\n",
    "                        if (sepIndex < 3):\n",
    "                            sepIndex += 1\n",
    "                    else:\n",
    "                        print(e)\n",
    "fileCsvFinal['Situação Voo'] = fileCsvFinal['Situação Voo'].str.upper()\n",
    "fileCsvFinal['Situação Voo'] = fileCsvFinal['Situação Voo'].str.replace('NÃO REALIZADO', 'CANCELADO', regex=False)"
   ]
  },
  {
   "cell_type": "code",
   "execution_count": 5,
   "metadata": {},
   "outputs": [
    {
     "data": {
      "text/plain": [
       "REALIZADO    5077785\n",
       "CANCELADO     485822\n",
       "Name: Situação Voo, dtype: int64"
      ]
     },
     "execution_count": 5,
     "metadata": {},
     "output_type": "execute_result"
    }
   ],
   "source": [
    "situacaoVoos = fileCsvFinal['Situação Voo'].value_counts()\n",
    "situacaoVoos"
   ]
  },
  {
   "cell_type": "code",
   "execution_count": 6,
   "metadata": {
    "scrolled": true
   },
   "outputs": [
    {
     "data": {
      "image/png": "[encoded data removed]",
      "text/plain": [
       "<Figure size 1080x360 with 1 Axes>"
      ]
     },
     "metadata": {
      "needs_background": "light"
     },
     "output_type": "display_data"
    }
   ],
   "source": [
    "VoosPorAno = fileCsvFinal['Ano'].value_counts()\n",
    "fig, axs = plt.subplots(figsize=(15, 5))\n",
    "VoosPorAno.plot(kind='bar')\n",
    "plt.xticks(rotation=50)\n",
    "labels = axs.get_xticklabels()\n",
    "for label in labels:\n",
    "    label.set_rotation(0)\n",
    "plt.setp(axs,\n",
    "yticks=[0, 200000, 400000, 600000, 800000, 1000000, 1200000],\n",
    "        )\n",
    "plt.show()"
   ]
  },
  {
   "cell_type": "code",
   "execution_count": 7,
   "metadata": {},
   "outputs": [],
   "source": [
    "teste = fileCsvFinal[['Situação Voo']].groupby(fileCsvFinal['ICAO Empresa Aérea'])"
   ]
  },
  {
   "cell_type": "code",
   "execution_count": 8,
   "metadata": {},
   "outputs": [
    {
     "data": {
      "text/html": [
       "<div>\n",
       "<style scoped>\n",
       "    .dataframe tbody tr th:only-of-type {\n",
       "        vertical-align: middle;\n",
       "    }\n",
       "\n",
       "    .dataframe tbody tr th {\n",
       "        vertical-align: top;\n",
       "    }\n",
       "\n",
       "    .dataframe thead th {\n",
       "        text-align: right;\n",
       "    }\n",
       "</style>\n",
       "<table border=\"1\" class=\"dataframe\">\n",
       "  <thead>\n",
       "    <tr style=\"text-align: right;\">\n",
       "      <th></th>\n",
       "      <th>Realizado</th>\n",
       "      <th>Cancelado</th>\n",
       "    </tr>\n",
       "  </thead>\n",
       "  <tbody>\n",
       "    <tr>\n",
       "      <th>2015</th>\n",
       "      <td>1127070</td>\n",
       "      <td>174500</td>\n",
       "    </tr>\n",
       "    <tr>\n",
       "      <th>2016</th>\n",
       "      <td>1004756</td>\n",
       "      <td>134250</td>\n",
       "    </tr>\n",
       "    <tr>\n",
       "      <th>2017</th>\n",
       "      <td>992040</td>\n",
       "      <td>113444</td>\n",
       "    </tr>\n",
       "    <tr>\n",
       "      <th>2018</th>\n",
       "      <td>988725</td>\n",
       "      <td>45831</td>\n",
       "    </tr>\n",
       "    <tr>\n",
       "      <th>2019</th>\n",
       "      <td>965194</td>\n",
       "      <td>17797</td>\n",
       "    </tr>\n",
       "  </tbody>\n",
       "</table>\n",
       "</div>"
      ],
      "text/plain": [
       "      Realizado  Cancelado\n",
       "2015    1127070     174500\n",
       "2016    1004756     134250\n",
       "2017     992040     113444\n",
       "2018     988725      45831\n",
       "2019     965194      17797"
      ]
     },
     "execution_count": 8,
     "metadata": {},
     "output_type": "execute_result"
    },
    {
     "data": {
      "image/png": "[encoded data removed]",
      "text/plain": [
       "<Figure size 720x360 with 1 Axes>"
      ]
     },
     "metadata": {
      "needs_background": "light"
     },
     "output_type": "display_data"
    }
   ],
   "source": [
    "SituacaoPorAno = pd.DataFrame()\n",
    "for situacao in fileCsvFinal['Situação Voo'].unique():\n",
    "    df = fileCsvFinal.loc[fileCsvFinal['Situação Voo'] == situacao]\n",
    "    df = df['Ano'].value_counts()\n",
    "    SituacaoPorAno= pd.concat([SituacaoPorAno, df], axis=1)\n",
    "SituacaoPorAno.columns = ['Realizado', 'Cancelado']\n",
    "SituacaoPorAno.plot(kind='bar',figsize=(10,5))\n",
    "SituacaoPorAno"
   ]
  },
  {
   "cell_type": "code",
   "execution_count": 9,
   "metadata": {},
   "outputs": [
    {
     "name": "stdout",
     "output_type": "stream",
     "text": [
      "Realizados :  5077785\n",
      "Cancelados :  485822\n"
     ]
    },
    {
     "data": {
      "image/png": "[encoded data removed]",
      "text/plain": [
       "<Figure size 936x360 with 1 Axes>"
      ]
     },
     "metadata": {
      "needs_background": "light"
     },
     "output_type": "display_data"
    }
   ],
   "source": [
    "fig, axs = plt.subplots(figsize=(13, 5))\n",
    "SituacaoPorMes = pd.DataFrame()\n",
    "for mes in range(1, 13):\n",
    "    df = fileCsvFinal.loc[fileCsvFinal['Mes'] == mes]\n",
    "    df = df['Situação Voo'].value_counts()\n",
    "    SituacaoPorMes= pd.concat([SituacaoPorMes, df], axis=1)\n",
    "SituacaoPorMes.columns = ['Janeiro','Fevereiro','Março','Abril','Maio', 'Junho','Julho', 'Agosto','Setembro','Outubro', 'Novembro', 'Dezembro']\n",
    "SituacaoPorMes.plot(kind='bar', ax=axs, width=0.8)\n",
    "labels = axs.get_xticklabels()\n",
    "for label in labels:\n",
    "    label.set_rotation(0)\n",
    "print(\"Realizados : \", SituacaoPorMes.iloc[0].sum())\n",
    "print(\"Cancelados : \", SituacaoPorMes.iloc[1].sum())"
   ]
  },
  {
   "cell_type": "code",
   "execution_count": 35,
   "metadata": {
    "scrolled": false
   },
   "outputs": [
    {
     "data": {
      "application/vnd.jupyter.widget-view+json": {
       "model_id": "e8fc8a7a3b964ee3894c93c0e930f660",
       "version_major": 2,
       "version_minor": 0
      },
      "text/plain": [
       "interactive(children=(IntSlider(value=2015, description='ano', max=2019, min=2015), Output()), _dom_classes=('…"
      ]
     },
     "metadata": {},
     "output_type": "display_data"
    },
    {
     "data": {
      "text/plain": [
       "<function __main__.f(ano)>"
      ]
     },
     "execution_count": 35,
     "metadata": {},
     "output_type": "execute_result"
    }
   ],
   "source": [
    "def f(ano):\n",
    "    df = fileCsvFinal.loc[fileCsvFinal['Ano'] == ano]\n",
    "    fig, axs = plt.subplots(figsize=(13, 5))\n",
    "    SituacaoPorMes = pd.DataFrame()\n",
    "    for mes in range(1, 13):\n",
    "        df2 = df.loc[df['Mes'] == mes]\n",
    "        df2 = df2['Situação Voo'].value_counts()\n",
    "        SituacaoPorMes= pd.concat([SituacaoPorMes, df2], axis=1)\n",
    "    SituacaoPorMes.columns = ['Janeiro','Fevereiro','Março','Abril','Maio', 'Junho','Julho', 'Agosto','Setembro','Outubro', 'Novembro', 'Dezembro']\n",
    "    SituacaoPorMes.plot(kind='bar', ax=axs, width=0.8)\n",
    "    labels = axs.get_xticklabels()\n",
    "    for label in labels:\n",
    "        label.set_rotation(0)\n",
    "    print(f\"Média de voos realizados : {np.around(SituacaoPorMes.iloc[0].mean(), decimals=2)}\")\n",
    "    print(f\"Média de voos cancelados : {np.around(SituacaoPorMes.iloc[1].mean(), decimals=2)}\")\n",
    "\n",
    "interact(f, ano=widgets.IntSlider(min=2015,max=2019,step=1,value=2015))"
   ]
  }
 ],
 "metadata": {
  "kernelspec": {
   "display_name": "Python 3",
   "language": "python",
   "name": "python3"
  },
  "language_info": {
   "codemirror_mode": {
    "name": "ipython",
    "version": 3
   },
   "file_extension": ".py",
   "mimetype": "text/x-python",
   "name": "python",
   "nbconvert_exporter": "python",
   "pygments_lexer": "ipython3",
   "version": "3.8.2"
  }
 },
 "nbformat": 4,
 "nbformat_minor": 4
}
